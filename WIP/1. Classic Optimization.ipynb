{
 "cells": [
  {
   "cell_type": "code",
   "execution_count": 1,
   "metadata": {},
   "outputs": [],
   "source": [
    "import omega as o\n",
    "import numpy as np\n",
    "import pandas as pd\n",
    "\n",
    "from scipy.optimize import minimize\n",
    "from tqdm.auto import tqdm"
   ]
  },
  {
   "cell_type": "code",
   "execution_count": 37,
   "metadata": {},
   "outputs": [],
   "source": [
    "def variance(weights, prices):\n",
    "    returns = np.log(prices).diff()[1:]\n",
    "    cov = returns.cov() * 252\n",
    "    return weights @ cov @ weights.T\n",
    "\n",
    "def sharpe_ratio(weights, prices):\n",
    "    returns = np.log(prices).diff()[1:]\n",
    "    portfolio_returns = returns @ weights.T\n",
    "    expected_return = np.mean(portfolio_returns) * 252\n",
    "    portfolio_std = np.sqrt(variance(weights, prices))\n",
    "    return (expected_return) / portfolio_std \n",
    "\n",
    "def neg_sharpe_ratio(weights, prices):\n",
    "    return -sharpe_ratio(weights, prices)\n",
    "\n",
    "def risk_contributions(weights, prices):\n",
    "    returns = np.log(prices).diff()[1:]\n",
    "    cov = returns.cov() * 252\n",
    "    return (weights *(cov @ weights.T)) / variance(weights, prices)\n",
    "\n",
    "def risk_parity_obj(weights, prices):\n",
    "    num_assets = len(prices.columns)\n",
    "    asset_contributions = risk_contributions(weights, prices)\n",
    "    equal_contribution = 1.0 / num_assets\n",
    "    risk_parity_obj = np.sum((asset_contributions - equal_contribution)**2)\n",
    "    return risk_parity_obj"
   ]
  },
  {
   "cell_type": "code",
   "execution_count": 36,
   "metadata": {},
   "outputs": [],
   "source": [
    "class OptimizePortfolio:\n",
    "\n",
    "    def __init__(self, prices, shorts=False, method='max-sharpe'):\n",
    "        self.stocks = prices.columns.to_list()\n",
    "        self.prices = prices\n",
    "        self.shorts = shorts\n",
    "        self.bounds = [(-1, 1) if self.shorts else (0, 1) for _ in range(len(self.stocks))]\n",
    "        self.constraints = ({'type': 'eq', 'fun': lambda w: np.sum(np.abs(w)) - 1})\n",
    "        self.initial_weights = np.array([1/len(self.stocks)] * len(self.stocks))\n",
    "        self.methods = {\n",
    "            'max-sharpe': neg_sharpe_ratio, \n",
    "            'min-variance': variance, \n",
    "            'risk-parity': risk_parity_obj\n",
    "        }\n",
    "        self.objective = self.methods[method]\n",
    "\n",
    "    def serialize(self):\n",
    "        return pd.Series(self.weights, index=self.stocks)\n",
    "\n",
    "    def optimize(self):\n",
    "\n",
    "        opt = minimize(\n",
    "            lambda w: self.objective(weights=w, prices=self.prices),\n",
    "            self.initial_weights,\n",
    "            bounds=self.bounds,\n",
    "            constraints=self.constraints,\n",
    "        )\n",
    "\n",
    "        self.weights = opt.x\n",
    "        self.sharpe = sharpe_ratio(self.weights, self.prices)\n",
    "        self.risk = np.sqrt(variance(self.weights, self.prices))\n",
    "        self.risk_contributions = risk_contributions(self.weights, self.prices)"
   ]
  }
 ],
 "metadata": {
  "kernelspec": {
   "display_name": "Python 3",
   "language": "python",
   "name": "python3"
  },
  "language_info": {
   "codemirror_mode": {
    "name": "ipython",
    "version": 3
   },
   "file_extension": ".py",
   "mimetype": "text/x-python",
   "name": "python",
   "nbconvert_exporter": "python",
   "pygments_lexer": "ipython3",
   "version": "3.10.10"
  },
  "orig_nbformat": 4
 },
 "nbformat": 4,
 "nbformat_minor": 2
}
