{
 "cells": [
  {
   "cell_type": "markdown",
   "metadata": {},
   "source": [
    "# Dynamic Portfolio Optimization via Sector Rotation and Machine Learning\n",
    "\n"
   ]
  },
  {
   "cell_type": "markdown",
   "metadata": {},
   "source": [
    "Aung Si<br>\n",
    "August 30<sup>th</sup>, 2023"
   ]
  },
  {
   "cell_type": "markdown",
   "metadata": {},
   "source": [
    "---"
   ]
  },
  {
   "cell_type": "markdown",
   "metadata": {},
   "source": [
    "## Introduction\n",
    "\n",
    "In the realm of portfolio optimization, the incorporation of machine learning algorithms serves as a linchpin for advancing predictive accuracy. This study embarks on an explorative journey to ascertain the efficacy of various machine learning models—ElasticNet, Support Vector Regressor, RandomForest, GradientBoost, and XGBoost—in predicting stock returns across multiple sectors. These models undergo an valuation process via time-series cross-validation, where an custom, asymmetric over-under loss function is utilized as the scoring metric. The aim is to identify the model that both excels in predicting sector returns *and* penalizes models that tend to over-predict.\n",
    "\n",
    "Upon determining the superior model for each time window, sector-specific portfolio strategies are crafted. Three portfolio optimization techniques—Maximum Sharpe ratio, Minimum Variance, and Risk Parity—are juxtaposed against a naïve 1/N (equal-allocation) strategy to gauge their performance in terms of Sharpe ratio, cumulative returns, and volatility. The allocation weights for each portfolio are recalibrated at regular 126-day (approximately half a trading year) intervals to adapt to market dynamics, thereby adding a layer of robustness to the portfolio construction process.\n",
    "\n",
    "The study culminates in a comparative analysis that pits the best-performing portfolio against individual sector returns. By providing empirical evidence, the analysis aims to delineate the benefits and drawbacks of employing machine learning models in portfolio optimization. The results offer a pragmatic approach to automated portfolio management but also contribute to the burgeoning literature on the interplay between machine learning and financial markets."
   ]
  }
 ],
 "metadata": {
  "language_info": {
   "name": "python"
  },
  "orig_nbformat": 4
 },
 "nbformat": 4,
 "nbformat_minor": 2
}
