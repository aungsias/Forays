{
 "cells": [
  {
   "cell_type": "code",
   "execution_count": 14,
   "metadata": {},
   "outputs": [],
   "source": [
    "from snp.SNP500 import SNP500\n",
    "from tqdm.auto import tqdm\n",
    "\n",
    "import pandas as pd"
   ]
  },
  {
   "cell_type": "code",
   "execution_count": 19,
   "metadata": {},
   "outputs": [],
   "source": [
    "snp = SNP500()\n",
    "tickers = snp.get_tickers()"
   ]
  },
  {
   "cell_type": "code",
   "execution_count": 36,
   "metadata": {},
   "outputs": [
    {
     "name": "stderr",
     "output_type": "stream",
     "text": [
      "  0%|          | 0/3 [00:00<?, ?it/s]"
     ]
    },
    {
     "name": "stderr",
     "output_type": "stream",
     "text": [
      "100%|██████████| 3/3 [00:00<00:00,  3.26it/s]\n"
     ]
    }
   ],
   "source": [
    "from urllib.request import Request, urlopen\n",
    "from bs4 import BeautifulSoup\n",
    "import pandas as pd\n",
    "from tqdm import tqdm\n",
    "from datetime import date\n",
    "\n",
    "news_url = \"https://finviz.com/quote.ashx?t=\"\n",
    "\n",
    "headers = {\n",
    "    \"User-Agent\": \"Mozilla/5.0 (Windows NT 10.0; Win64; x64) AppleWebKit/537.36 (KHTML, like Gecko) Chrome/116.0.0.0 Safari/537.36\"\n",
    "}\n",
    "\n",
    "data = pd.DataFrame(columns=[\"Date\", \"Headline\", \"Ticker\"])\n",
    "tickers = [\"AGG\", \"DBC\", \"SPY\"]\n",
    "\n",
    "row_index = 0\n",
    "for ticker in tqdm(tickers[:25]):\n",
    "    ticker_url = f\"{news_url}{ticker}\"\n",
    "    req = Request(url=ticker_url, headers=headers)\n",
    "    response = urlopen(req)\n",
    "    html = BeautifulSoup(response, \"html.parser\")\n",
    "    news_table = html.find(id=\"news-table\")\n",
    "    \n",
    "    for row in news_table.findAll(\"tr\"):\n",
    "        try:\n",
    "            title = row.a.text\n",
    "            date_text = row.td.text.split()\n",
    "            \n",
    "            if date_text[0] == \"Today\":\n",
    "                date_str = str(date.today())\n",
    "            else:\n",
    "                date_str = date_text[0]\n",
    "            \n",
    "            data.loc[row_index, [\"Date\", \"Headline\", \"Ticker\"]] = [date_str, title, ticker]\n",
    "            row_index += 1\n",
    "            \n",
    "        except AttributeError as e:\n",
    "            continue\n",
    "\n",
    "# Convert the 'Date' column to pandas date type\n",
    "data['Date'] = pd.to_datetime(data['Date']).dt.date\n"
   ]
  },
  {
   "cell_type": "code",
   "execution_count": 39,
   "metadata": {},
   "outputs": [
    {
     "data": {
      "text/html": [
       "<div>\n",
       "<style scoped>\n",
       "    .dataframe tbody tr th:only-of-type {\n",
       "        vertical-align: middle;\n",
       "    }\n",
       "\n",
       "    .dataframe tbody tr th {\n",
       "        vertical-align: top;\n",
       "    }\n",
       "\n",
       "    .dataframe thead th {\n",
       "        text-align: right;\n",
       "    }\n",
       "</style>\n",
       "<table border=\"1\" class=\"dataframe\">\n",
       "  <thead>\n",
       "    <tr style=\"text-align: right;\">\n",
       "      <th></th>\n",
       "      <th>Date</th>\n",
       "      <th>Headline</th>\n",
       "      <th>Ticker</th>\n",
       "    </tr>\n",
       "  </thead>\n",
       "  <tbody>\n",
       "    <tr>\n",
       "      <th>298</th>\n",
       "      <td>2023-08-01</td>\n",
       "      <td>Oil, commodities, small-caps in focus amid inf...</td>\n",
       "      <td>SPY</td>\n",
       "    </tr>\n",
       "    <tr>\n",
       "      <th>297</th>\n",
       "      <td>2023-08-02</td>\n",
       "      <td>An Irrefutable Bull Market Is in Sight. Here's...</td>\n",
       "      <td>SPY</td>\n",
       "    </tr>\n",
       "    <tr>\n",
       "      <th>295</th>\n",
       "      <td>2023-08-03</td>\n",
       "      <td>Can Investing in Commodities Boost Your Return...</td>\n",
       "      <td>SPY</td>\n",
       "    </tr>\n",
       "    <tr>\n",
       "      <th>294</th>\n",
       "      <td>2023-08-08</td>\n",
       "      <td>Yahoo Finance Chartbook: 50 charts tell the st...</td>\n",
       "      <td>SPY</td>\n",
       "    </tr>\n",
       "    <tr>\n",
       "      <th>293</th>\n",
       "      <td>2023-08-09</td>\n",
       "      <td>The New ETF That Offers 100% Downside Protection</td>\n",
       "      <td>SPY</td>\n",
       "    </tr>\n",
       "    <tr>\n",
       "      <th>...</th>\n",
       "      <td>...</td>\n",
       "      <td>...</td>\n",
       "      <td>...</td>\n",
       "    </tr>\n",
       "    <tr>\n",
       "      <th>233</th>\n",
       "      <td>2023-09-14</td>\n",
       "      <td>S&amp;P500 Logs Worst Month Since February: 5 Top ...</td>\n",
       "      <td>SPY</td>\n",
       "    </tr>\n",
       "    <tr>\n",
       "      <th>231</th>\n",
       "      <td>2023-09-14</td>\n",
       "      <td>Stocks open lower as worries about inflation r...</td>\n",
       "      <td>SPY</td>\n",
       "    </tr>\n",
       "    <tr>\n",
       "      <th>230</th>\n",
       "      <td>2023-09-14</td>\n",
       "      <td>US futures slip as worries about inflation rev...</td>\n",
       "      <td>SPY</td>\n",
       "    </tr>\n",
       "    <tr>\n",
       "      <th>255</th>\n",
       "      <td>2023-09-14</td>\n",
       "      <td>August jobs report: US economy adds 187,000 jo...</td>\n",
       "      <td>SPY</td>\n",
       "    </tr>\n",
       "    <tr>\n",
       "      <th>299</th>\n",
       "      <td>2023-09-14</td>\n",
       "      <td>State Street Undercuts BlackRock, Vanguard Wit...</td>\n",
       "      <td>SPY</td>\n",
       "    </tr>\n",
       "  </tbody>\n",
       "</table>\n",
       "<p>100 rows × 3 columns</p>\n",
       "</div>"
      ],
      "text/plain": [
       "           Date                                           Headline Ticker\n",
       "298  2023-08-01  Oil, commodities, small-caps in focus amid inf...    SPY\n",
       "297  2023-08-02  An Irrefutable Bull Market Is in Sight. Here's...    SPY\n",
       "295  2023-08-03  Can Investing in Commodities Boost Your Return...    SPY\n",
       "294  2023-08-08  Yahoo Finance Chartbook: 50 charts tell the st...    SPY\n",
       "293  2023-08-09   The New ETF That Offers 100% Downside Protection    SPY\n",
       "..          ...                                                ...    ...\n",
       "233  2023-09-14  S&P500 Logs Worst Month Since February: 5 Top ...    SPY\n",
       "231  2023-09-14  Stocks open lower as worries about inflation r...    SPY\n",
       "230  2023-09-14  US futures slip as worries about inflation rev...    SPY\n",
       "255  2023-09-14  August jobs report: US economy adds 187,000 jo...    SPY\n",
       "299  2023-09-14  State Street Undercuts BlackRock, Vanguard Wit...    SPY\n",
       "\n",
       "[100 rows x 3 columns]"
      ]
     },
     "execution_count": 39,
     "metadata": {},
     "output_type": "execute_result"
    }
   ],
   "source": [
    "data[data.Ticker == 'SPY'].sort_values(by=\"Date\")"
   ]
  },
  {
   "cell_type": "code",
   "execution_count": 41,
   "metadata": {},
   "outputs": [],
   "source": [
    "from vaderSentiment.vaderSentiment import SentimentIntensityAnalyzer\n",
    "\n",
    "# Initialize VADER\n",
    "analyzer = SentimentIntensityAnalyzer()\n",
    "\n",
    "# Function to apply VADER analysis\n",
    "def analyze_sentiment(headline):\n",
    "    return analyzer.polarity_scores(headline)['compound']\n",
    "\n",
    "# Filter SPY ticker data\n",
    "spy_data = data[data.Ticker == 'SPY'].sort_values(by=\"Date\")\n",
    "\n",
    "# Apply VADER analysis\n",
    "spy_data['Sentiment'] = spy_data['Headline'].apply(analyze_sentiment)\n"
   ]
  },
  {
   "cell_type": "code",
   "execution_count": 57,
   "metadata": {},
   "outputs": [
    {
     "data": {
      "text/plain": [
       "<Axes: xlabel='Date'>"
      ]
     },
     "execution_count": 57,
     "metadata": {},
     "output_type": "execute_result"
    },
    {
     "data": {
      "image/png": "[encoded data removed]",
      "text/plain": [
       "<Figure size 640x480 with 1 Axes>"
      ]
     },
     "metadata": {},
     "output_type": "display_data"
    }
   ],
   "source": [
    "spy_data.sort_values(by='Date').set_index('Date').Sentiment.plot()"
   ]
  }
 ],
 "metadata": {
  "kernelspec": {
   "display_name": "base",
   "language": "python",
   "name": "python3"
  },
  "language_info": {
   "codemirror_mode": {
    "name": "ipython",
    "version": 3
   },
   "file_extension": ".py",
   "mimetype": "text/x-python",
   "name": "python",
   "nbconvert_exporter": "python",
   "pygments_lexer": "ipython3",
   "version": "3.10.10"
  },
  "orig_nbformat": 4
 },
 "nbformat": 4,
 "nbformat_minor": 2
}
