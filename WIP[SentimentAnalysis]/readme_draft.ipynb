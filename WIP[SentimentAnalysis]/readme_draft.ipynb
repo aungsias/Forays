{
 "cells": [
  {
   "cell_type": "markdown",
   "metadata": {},
   "source": [
    "# Comparative Study of Lightweight Language Models for Sentiment Analysis\n",
    "\n",
    "Aung Si<br>\n",
    "September 18<sup>th</sup>, 2023"
   ]
  },
  {
   "cell_type": "markdown",
   "metadata": {},
   "source": [
    "---"
   ]
  },
  {
   "cell_type": "markdown",
   "metadata": {},
   "source": [
    "## Introduction \n",
    "\n",
    "This study aims to scrutinize the efficacy and computational demands of three pivotal sentiment analysis models: **VADER**, **TextBlob**, and **BERT**, particularly focusing on their adaptability to diverse types of text data.\n",
    "\n",
    "**VADER (Valence Aware Dictionary and sEntiment Reasoner)** is designed for rapid sentiment analysis of social media and brief textual snippets. Utilizing a lexicon of pre-scored words, VADER computes sentiment by considering word intensity, negations, and contextual factors. While the model is highly interpretable, its rule-based nature may limit its ability to capture linguistic subtleties.\n",
    "\n",
    "**TextBlob** offers an accessible API for rudimentary natural language processing tasks, including sentiment analysis. Leveraging a Naive Bayes classifier, it assigns polarity and subjectivity metrics to textual data. Although TextBlob employs machine learning, its architecture is less intricate than more recent models, making it efficient but potentially less precise for complex narratives.\n",
    "\n",
    "Contrastingly, **BERT (Bidirectional Encoder Representations from Transformers)** is a deep learning behemoth optimized for nuanced language understanding. Employing the Transformer architecture, BERT is pretrained on an expansive corpus and can be fine-tuned for specialized tasks, including sentiment analysis. While its bidirectional capabilities allow for robust contextual interpretation, the computational overhead is significantly higher.\n",
    "\n",
    "## Data Source and Focus of Analysis\n",
    "\n",
    "We use the Markets Insider API to gather news articles about Disney for our sentiment analysis. As a long-time Star Wars fan now skeptical of Disney's content direction, this study probes if media sentiments align with my personal views.\n",
    "\n",
    "The API provides a current and balanced selection of news, which lie at the epicenter of our evaluating the adaptability and precision of VADER, TextBlob, and BERT. The study aims to assess each model's technical capabilities and practical relevance, particularly in a news context that holds personal significance."
   ]
  }
 ],
 "metadata": {
  "language_info": {
   "name": "python"
  },
  "orig_nbformat": 4
 },
 "nbformat": 4,
 "nbformat_minor": 2
}
