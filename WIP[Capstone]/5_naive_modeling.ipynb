{
 "cells": [
  {
   "cell_type": "code",
   "execution_count": 1,
   "metadata": {},
   "outputs": [],
   "source": [
    "# Data manipulation and analysis\n",
    "import pandas as pd\n",
    "import numpy as np\n",
    "\n",
    "# Custom modules and functions\n",
    "from capstone.model_selection import overunder_error, naive_cross_val_score\n",
    "from capstone.utils import read_file, get_sectors"
   ]
  },
  {
   "cell_type": "code",
   "execution_count": 2,
   "metadata": {},
   "outputs": [],
   "source": [
    "# Load in files\n",
    "sectors = get_sectors()\n",
    "df = read_file(\"master_df\", index_col=0)\n",
    "\n",
    "returns = df[sectors]"
   ]
  },
  {
   "cell_type": "code",
   "execution_count": 3,
   "metadata": {},
   "outputs": [],
   "source": [
    "# Define the forecast horizon in terms of trading days per year\n",
    "trading_days = 252\n",
    "forecast = int(trading_days / 2)\n",
    "\n",
    "# Shift returns for forecasting, align indices\n",
    "returns_shifted = returns.shift(forecast).dropna()\n",
    "returns_reind = returns.reindex(returns_shifted.index)\n",
    "\n",
    "# Initialize output DataFrames\n",
    "naive_ouls = pd.DataFrame()\n",
    "naive_preds = pd.DataFrame()\n",
    "\n",
    "# Loop through sectors\n",
    "for sector in sectors:\n",
    "    r_trues = returns_reind[sector]\n",
    "    r_hats = returns_shifted[sector]\n",
    "    \n",
    "    # Time-chunk loop\n",
    "    for i in range(forecast + 1, len(returns_reind), forecast):\n",
    "        r_hat = r_hats.iloc[i-forecast:i]\n",
    "        r_true = r_trues.iloc[i-forecast:i]\n",
    "        \n",
    "        # Calculate and store mean over-under loss\n",
    "        mean_oul = np.mean(\n",
    "            naive_cross_val_score(\n",
    "                r_hat, r_true, cv=2, scorer=overunder_error,\n",
    "                overpred_penalty=2, underpred_penalty=0\n",
    "            )\n",
    "        )\n",
    "        naive_ouls.loc[r_hat.index.max(), sector] = mean_oul"
   ]
  },
  {
   "cell_type": "code",
   "execution_count": 4,
   "metadata": {},
   "outputs": [
    {
     "data": {
      "text/plain": [
       "2020-05-28    Naive\n",
       "dtype: object"
      ]
     },
     "execution_count": 4,
     "metadata": {},
     "output_type": "execute_result"
    }
   ],
   "source": [
    "from capstone.utils import read_file\n",
    "\n",
    "arimax_mean_ouls = read_file(\"arimax_mean_ouls\", index_col=0)\n",
    "sklearn_mean_ouls = read_file(\"sklearn_mean_ouls\", index_col=0)\n",
    "naive_mean_ouls = pd.Series(naive_ouls.mean(axis=1), name=\"Naive\")\n",
    "\n",
    "mean_ouls = pd.concat([arimax_mean_ouls, sklearn_mean_ouls, naive_mean_ouls], axis=1)\n",
    "selected_models = mean_ouls.idxmin(axis=1)\n",
    "selected_models[selected_models == \"Naive\"]"
   ]
  },
  {
   "cell_type": "code",
   "execution_count": 5,
   "metadata": {},
   "outputs": [
    {
     "data": {
      "text/plain": [
       "2020-05-28    Naive\n",
       "dtype: object"
      ]
     },
     "execution_count": 5,
     "metadata": {},
     "output_type": "execute_result"
    }
   ],
   "source": [
    "# Read pre-calculated mean over-under loss (OUL) scores from files\n",
    "arimax_mean_ouls = read_file(\"arimax_mean_ouls\", index_col=0)\n",
    "sklearn_mean_ouls = read_file(\"sklearn_mean_ouls\", index_col=0)\n",
    "\n",
    "# Compute mean OUL for the naive model\n",
    "naive_mean_ouls = pd.Series(naive_ouls.mean(axis=1), name=\"Naive\")\n",
    "\n",
    "# Combine all mean OULs into one DataFrame\n",
    "mean_ouls = pd.concat([arimax_mean_ouls, sklearn_mean_ouls, naive_mean_ouls], axis=1)\n",
    "\n",
    "# Identify the model with the lowest mean OUL for each time point\n",
    "selected_models = mean_ouls.idxmin(axis=1)\n",
    "\n",
    "# Filter instances where the naive model performed best\n",
    "selected_models[selected_models == \"Naive\"]"
   ]
  }
 ],
 "metadata": {
  "kernelspec": {
   "display_name": "base",
   "language": "python",
   "name": "python3"
  },
  "language_info": {
   "codemirror_mode": {
    "name": "ipython",
    "version": 3
   },
   "file_extension": ".py",
   "mimetype": "text/x-python",
   "name": "python",
   "nbconvert_exporter": "python",
   "pygments_lexer": "ipython3",
   "version": "3.11.4"
  },
  "orig_nbformat": 4
 },
 "nbformat": 4,
 "nbformat_minor": 2
}
