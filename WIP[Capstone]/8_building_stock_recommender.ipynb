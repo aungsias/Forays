{
 "cells": [
  {
   "cell_type": "code",
   "execution_count": 1,
   "metadata": {},
   "outputs": [],
   "source": [
    "# Data manipulation and analysis\n",
    "import pandas as pd\n",
    "import numpy as np\n",
    "\n",
    "# Data visualization\n",
    "import matplotlib.pyplot as plt\n",
    "import seaborn as sns\n",
    "\n",
    "# Suppress warnings for cleaner output\n",
    "import warnings\n",
    "warnings.filterwarnings(\"ignore\")\n",
    "\n",
    "# Custom modules and functions\n",
    "import capstone.portfolio.optimize as opt\n",
    "from capstone.portfolio.prune import prune_recommended_portfolios\n",
    "from capstone.model_selection import overunder_error, ts_cross_val_score, arimax_cross_val_score\n",
    "from capstone.utils import read_file, get_sectors, load_models, set_plot_style\n",
    "\n",
    "# SARIMAX model from statsmodels\n",
    "from statsmodels.tsa.statespace.sarimax import SARIMAX\n",
    "\n",
    "# PCA & Pipeline\n",
    "from sklearn.decomposition import PCA\n",
    "from sklearn.pipeline import make_pipeline\n",
    "from sklearn.preprocessing import StandardScaler\n",
    "\n",
    "# Progress bar for loops\n",
    "from tqdm.auto import tqdm\n",
    "\n",
    "set_plot_style()"
   ]
  },
  {
   "cell_type": "code",
   "execution_count": null,
   "metadata": {},
   "outputs": [],
   "source": [
    "class DataLoader:\n",
    "    \n",
    "    def __init__(self):\n",
    "        self.data = {}\n",
    "    \n",
    "    def load_all(self):\n",
    "        self.data[\"master_df\"] = self._load_file(\"master_df\")\n",
    "        self.data[\"stock_returns\"] = self._load_file('snp_log_returns')\n",
    "        self.data[\"stocks_by_sector\"] = self._load_file(\"stocks_by_sector\")\n",
    "        self.data[\"sectors\"] = self._load_file(\"sectors\")\n",
    "        self.data[\"models\"] = load_models()\n",
    "        return self.data\n",
    "    \n",
    "    def _load_file(self, name):\n",
    "        return read_file(name, index_col=0)\n",
    "\n",
    "class StockRecommender:\n",
    "\n",
    "    def __init__(self):\n",
    "        \n",
    "        self._data_loader = DataLoader()\n",
    "        self._data = self._data_loader.load_all()\n",
    "        self._models = self._data[\"models\"]\n",
    "        self._df = self._data[\"master_df\"]\n",
    "        self._stock_rets = self._data[\"stock_returns\"]\n",
    "        self._stocks_by_sec = self._data[\"stocks_by_sector\"]\n",
    "        self._sectors = self._data[\"sectors\"]\n",
    "\n",
    "        self._recommended_stocks = None\n",
    "\n",
    "    def _extract_features(self, df, sectors):\n",
    "        X_all = df[sectors]\n",
    "        y_all = df[df.columns[~df.columns.isin(sectors)]]\n",
    "        return X_all, y_all"
   ]
  }
 ],
 "metadata": {
  "kernelspec": {
   "display_name": "base",
   "language": "python",
   "name": "python3"
  },
  "language_info": {
   "codemirror_mode": {
    "name": "ipython",
    "version": 3
   },
   "file_extension": ".py",
   "mimetype": "text/x-python",
   "name": "python",
   "nbconvert_exporter": "python",
   "pygments_lexer": "ipython3",
   "version": "3.10.9"
  },
  "orig_nbformat": 4
 },
 "nbformat": 4,
 "nbformat_minor": 2
}
