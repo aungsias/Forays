{
 "cells": [
  {
   "cell_type": "code",
   "execution_count": 3,
   "metadata": {},
   "outputs": [],
   "source": [
    "import pickle"
   ]
  },
  {
   "cell_type": "code",
   "execution_count": 7,
   "metadata": {},
   "outputs": [
    {
     "data": {
      "text/plain": [
       "{'Ridge': Pipeline(steps=[('standardscaler', StandardScaler()),\n",
       "                 ('ridge', Ridge(alpha=0.5, random_state=42, solver='sag'))]),\n",
       " 'ElasticNet': Pipeline(steps=[('standardscaler', StandardScaler()),\n",
       "                 ('elasticnet',\n",
       "                  ElasticNet(alpha=0.5, l1_ratio=0.7, random_state=42))]),\n",
       " 'KNeighborsRegressor': Pipeline(steps=[('standardscaler', StandardScaler()),\n",
       "                 ('kneighborsregressor',\n",
       "                  KNeighborsRegressor(n_neighbors=10, weights='distance'))]),\n",
       " 'SVR': Pipeline(steps=[('standardscaler', StandardScaler()),\n",
       "                 ('svr', SVR(C=0.5, epsilon=0.2, kernel='linear'))]),\n",
       " 'AdaBoostRegressor': AdaBoostRegressor(random_state=42)}"
      ]
     },
     "execution_count": 7,
     "metadata": {},
     "output_type": "execute_result"
    }
   ],
   "source": [
    "from sklearn.preprocessing import StandardScaler\n",
    "from sklearn.pipeline import make_pipeline\n",
    "from sklearn.linear_model import Ridge, ElasticNet\n",
    "from sklearn.neighbors import KNeighborsRegressor\n",
    "from sklearn.svm import SVR\n",
    "from sklearn.ensemble import AdaBoostRegressor\n",
    "\n",
    "# Initialize an empty dictionary to store models\n",
    "models = {}\n",
    "\n",
    "# Ridge: Suitable for linear trends.\n",
    "models[\"Ridge\"] = make_pipeline(\n",
    "    StandardScaler(), Ridge(alpha=0.5, solver='sag', random_state=42)\n",
    ")\n",
    "\n",
    "# ElasticNet: Good for feature selection.\n",
    "models[\"ElasticNet\"] = make_pipeline(\n",
    "    StandardScaler(), ElasticNet(alpha=0.5, l1_ratio=0.7, random_state=42)\n",
    ")\n",
    "\n",
    "# KNeighborsRegressor: Captures local volatility.\n",
    "models[\"KNeighborsRegressor\"] = make_pipeline(\n",
    "    StandardScaler(), KNeighborsRegressor(n_neighbors=10, algorithm='auto', weights='distance')\n",
    ")\n",
    "\n",
    "# SVR: Handles non-linear trends.\n",
    "models[\"SVR\"] = make_pipeline(\n",
    "    StandardScaler(), SVR(C=0.5, kernel='linear', epsilon=0.2)\n",
    ")\n",
    "\n",
    "# AdaBoostRegressor: Boosts performance, less computationally intense.\n",
    "# - n_estimators=50: Number of weak learners to train.\n",
    "# - learning_rate=1.0: Rate at which the model adjusts based on errors.\n",
    "models[\"AdaBoostRegressor\"] = AdaBoostRegressor(n_estimators=50, learning_rate=1.0, random_state=42)\n",
    "\n",
    "models"
   ]
  },
  {
   "cell_type": "code",
   "execution_count": 8,
   "metadata": {},
   "outputs": [],
   "source": [
    "with open(\"models/initial_models_inexp.pkl\", \"wb\") as f:\n",
    "    pickle.dump(models, f)"
   ]
  },
  {
   "cell_type": "code",
   "execution_count": null,
   "metadata": {},
   "outputs": [],
   "source": []
  }
 ],
 "metadata": {
  "kernelspec": {
   "display_name": "Python 3",
   "language": "python",
   "name": "python3"
  },
  "language_info": {
   "codemirror_mode": {
    "name": "ipython",
    "version": 3
   },
   "file_extension": ".py",
   "mimetype": "text/x-python",
   "name": "python",
   "nbconvert_exporter": "python",
   "pygments_lexer": "ipython3",
   "version": "3.10.10"
  },
  "orig_nbformat": 4
 },
 "nbformat": 4,
 "nbformat_minor": 2
}
