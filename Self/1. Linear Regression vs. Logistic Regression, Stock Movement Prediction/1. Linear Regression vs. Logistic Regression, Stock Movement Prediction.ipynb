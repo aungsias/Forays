{
 "cells": [
  {
   "cell_type": "code",
   "execution_count": 1,
   "metadata": {},
   "outputs": [],
   "source": [
    "import pandas as pd\n",
    "import matplotlib.pyplot as plt\n",
    "import seaborn as sns\n",
    "import numpy as np\n",
    "\n",
    "sns.set_style('whitegrid')\n",
    "sns.set_palette('Set1')\n",
    "plt.rcParams['figure.figsize'] = (15, 7)"
   ]
  },
  {
   "cell_type": "code",
   "execution_count": 2,
   "metadata": {},
   "outputs": [],
   "source": [
    "stock = ['AAPL']\n",
    "indices = ['VTI', 'DBC', '^VIX', 'AGG']"
   ]
  },
  {
   "cell_type": "code",
   "execution_count": 3,
   "metadata": {},
   "outputs": [
    {
     "data": {
      "text/html": [
       "<div>\n",
       "<style scoped>\n",
       "    .dataframe tbody tr th:only-of-type {\n",
       "        vertical-align: middle;\n",
       "    }\n",
       "\n",
       "    .dataframe tbody tr th {\n",
       "        vertical-align: top;\n",
       "    }\n",
       "\n",
       "    .dataframe thead th {\n",
       "        text-align: right;\n",
       "    }\n",
       "</style>\n",
       "<table border=\"1\" class=\"dataframe\">\n",
       "  <thead>\n",
       "    <tr style=\"text-align: right;\">\n",
       "      <th></th>\n",
       "      <th>AAPL</th>\n",
       "      <th>AGG</th>\n",
       "      <th>DBC</th>\n",
       "      <th>VTI</th>\n",
       "      <th>^VIX</th>\n",
       "    </tr>\n",
       "    <tr>\n",
       "      <th>Date</th>\n",
       "      <th></th>\n",
       "      <th></th>\n",
       "      <th></th>\n",
       "      <th></th>\n",
       "      <th></th>\n",
       "    </tr>\n",
       "  </thead>\n",
       "  <tbody>\n",
       "    <tr>\n",
       "      <th>2022-01-04</th>\n",
       "      <td>-0.012773</td>\n",
       "      <td>-0.000088</td>\n",
       "      <td>0.011913</td>\n",
       "      <td>-0.001895</td>\n",
       "      <td>0.018502</td>\n",
       "    </tr>\n",
       "    <tr>\n",
       "      <th>2022-01-05</th>\n",
       "      <td>-0.026960</td>\n",
       "      <td>-0.003094</td>\n",
       "      <td>-0.004273</td>\n",
       "      <td>-0.021928</td>\n",
       "      <td>0.154235</td>\n",
       "    </tr>\n",
       "    <tr>\n",
       "      <th>2022-01-06</th>\n",
       "      <td>-0.016834</td>\n",
       "      <td>-0.001063</td>\n",
       "      <td>0.008527</td>\n",
       "      <td>-0.000253</td>\n",
       "      <td>-0.006101</td>\n",
       "    </tr>\n",
       "    <tr>\n",
       "      <th>2022-01-07</th>\n",
       "      <td>0.000988</td>\n",
       "      <td>-0.002929</td>\n",
       "      <td>0.001885</td>\n",
       "      <td>-0.004564</td>\n",
       "      <td>-0.044313</td>\n",
       "    </tr>\n",
       "    <tr>\n",
       "      <th>2022-01-10</th>\n",
       "      <td>0.000116</td>\n",
       "      <td>-0.000889</td>\n",
       "      <td>-0.004246</td>\n",
       "      <td>-0.001738</td>\n",
       "      <td>0.033546</td>\n",
       "    </tr>\n",
       "  </tbody>\n",
       "</table>\n",
       "</div>"
      ],
      "text/plain": [
       "                AAPL       AGG       DBC       VTI      ^VIX\n",
       "Date                                                        \n",
       "2022-01-04 -0.012773 -0.000088  0.011913 -0.001895  0.018502\n",
       "2022-01-05 -0.026960 -0.003094 -0.004273 -0.021928  0.154235\n",
       "2022-01-06 -0.016834 -0.001063  0.008527 -0.000253 -0.006101\n",
       "2022-01-07  0.000988 -0.002929  0.001885 -0.004564 -0.044313\n",
       "2022-01-10  0.000116 -0.000889 -0.004246 -0.001738  0.033546"
      ]
     },
     "execution_count": 3,
     "metadata": {},
     "output_type": "execute_result"
    }
   ],
   "source": [
    "start = '2022-01-01'\n",
    "end = '2023-08-14'\n",
    "\n",
    "prices = pd.read_csv('data/AAPL-VTI-DBC-VIX-AGG-prices-20220101-20230814.csv', index_col=0, parse_dates=True)\n",
    "data = np.log(prices).diff()[1:]\n",
    "data.head()"
   ]
  },
  {
   "cell_type": "code",
   "execution_count": 4,
   "metadata": {},
   "outputs": [],
   "source": [
    "def replace_zeros_with_rolling_mean(series):\n",
    "    non_zero_values = series.replace(0, np.nan)\n",
    "    rolling_mean = non_zero_values.expanding().mean()\n",
    "    for idx, value in series.items():\n",
    "        if value == 0:\n",
    "            series.at[idx] = rolling_mean.at[idx]\n",
    "\n",
    "    return series\n",
    "\n",
    "data = data.apply(replace_zeros_with_rolling_mean)"
   ]
  },
  {
   "cell_type": "code",
   "execution_count": 9,
   "metadata": {},
   "outputs": [],
   "source": [
    "from sklearn.model_selection import train_test_split\n",
    "from sklearn.linear_model import LinearRegression, LogisticRegression\n",
    "\n",
    "X = data[indices]\n",
    "y_linear = data[stock].squeeze()\n",
    "\n",
    "X_train, X_test, y_train_linear, y_test_linear = train_test_split(X, y_linear, shuffle=False, test_size=.2, random_state=42)\n",
    "y_train_logistic, y_test_logistic = np.sign(y_train_linear), np.sign(y_test_linear)"
   ]
  },
  {
   "cell_type": "code",
   "execution_count": 10,
   "metadata": {},
   "outputs": [],
   "source": [
    "from sklearn.linear_model import LinearRegression, LogisticRegression\n",
    "\n",
    "linear_regression = LinearRegression()\n",
    "logistic_regression = LogisticRegression(random_state=42)\n",
    "\n",
    "linear_regression.fit(X_train, y_train_linear)\n",
    "logistic_regression.fit(X_train, y_train_logistic);"
   ]
  },
  {
   "cell_type": "code",
   "execution_count": 11,
   "metadata": {},
   "outputs": [
    {
     "data": {
      "text/html": [
       "<div>\n",
       "<style scoped>\n",
       "    .dataframe tbody tr th:only-of-type {\n",
       "        vertical-align: middle;\n",
       "    }\n",
       "\n",
       "    .dataframe tbody tr th {\n",
       "        vertical-align: top;\n",
       "    }\n",
       "\n",
       "    .dataframe thead th {\n",
       "        text-align: right;\n",
       "    }\n",
       "</style>\n",
       "<table border=\"1\" class=\"dataframe\">\n",
       "  <thead>\n",
       "    <tr style=\"text-align: right;\">\n",
       "      <th></th>\n",
       "      <th>Accuracy</th>\n",
       "    </tr>\n",
       "    <tr>\n",
       "      <th>Model</th>\n",
       "      <th></th>\n",
       "    </tr>\n",
       "  </thead>\n",
       "  <tbody>\n",
       "    <tr>\n",
       "      <th>Linear Regression</th>\n",
       "      <td>75.31%</td>\n",
       "    </tr>\n",
       "    <tr>\n",
       "      <th>Logistic Regression</th>\n",
       "      <td>61.73%</td>\n",
       "    </tr>\n",
       "  </tbody>\n",
       "</table>\n",
       "</div>"
      ],
      "text/plain": [
       "                    Accuracy\n",
       "Model                       \n",
       "Linear Regression     75.31%\n",
       "Logistic Regression   61.73%"
      ]
     },
     "execution_count": 11,
     "metadata": {},
     "output_type": "execute_result"
    }
   ],
   "source": [
    "from sklearn.metrics import accuracy_score\n",
    "\n",
    "y_pred_lin = np.sign(linear_regression.predict(X_test))\n",
    "y_pred_log = logistic_regression.predict(X_test)\n",
    "\n",
    "accuracy_lin = accuracy_score(np.sign(y_test_linear), y_pred_lin)\n",
    "accuracy_log = accuracy_score(y_test_logistic, y_pred_log)\n",
    "\n",
    "accuracies = {\n",
    "    'Model': ['Linear Regression', 'Logistic Regression'],\n",
    "    'Accuracy': [str(np.round(accuracy_lin * 100, 2)) +'%', str(np.round(accuracy_log * 100, 2)) +'%']\n",
    "}\n",
    "\n",
    "accuracy_df = pd.DataFrame(accuracies).set_index('Model')\n",
    "accuracy_df"
   ]
  },
  {
   "cell_type": "code",
   "execution_count": 12,
   "metadata": {},
   "outputs": [],
   "source": [
    "backtest_data = prices.filter(stock)[-len(y_pred_lin):]\n",
    "backtest_data['lin_reg_signal'] = y_pred_lin\n",
    "backtest_data['log_reg_signal'] = y_pred_log\n",
    "backtest_data['lin_reg_signal'] = backtest_data['lin_reg_signal'].shift()\n",
    "backtest_data['log_reg_signal'] = backtest_data['log_reg_signal'].shift()\n",
    "models = ['lin_reg', 'log_reg']\n",
    "\n",
    "transactions = {\n",
    "    model: {\n",
    "        'buys': [],\n",
    "        'sells': [],\n",
    "    } for model in models\n",
    "}\n",
    "\n",
    "def log_transactions(transactions, models, backtest_data):\n",
    "    for model in models:\n",
    "        in_position = False\n",
    "        \n",
    "        for _, row in backtest_data.iterrows():\n",
    "            signal = row[f'{model}_signal']\n",
    "\n",
    "            if signal == 1 and not in_position:\n",
    "                in_position = True\n",
    "                transactions[model]['buys'].append(row[stock].values[0])\n",
    "            \n",
    "            elif signal == -1 and in_position:\n",
    "                in_position = False\n",
    "                transactions[model]['sells'].append(row[stock].values[0])\n",
    "            \n",
    "        transactions[model]['profit'] = [(sell - buy) / buy for sell, buy in zip(transactions[model]['sells'], transactions[model]['buys'])]\n",
    "        transactions[model]['profit'].insert(0, 0)\n",
    "        transactions[model]['profit'] = (np.cumprod(1 + np.array(transactions[model]['profit'])) - 1)[-1]\n",
    "    return transactions\n",
    "\n",
    "transactions = log_transactions(transactions, models, backtest_data)"
   ]
  },
  {
   "cell_type": "code",
   "execution_count": 13,
   "metadata": {},
   "outputs": [
    {
     "name": "stdout",
     "output_type": "stream",
     "text": [
      "lin_reg: \t 2.27%\n",
      "log_reg: \t -0.97%\n"
     ]
    }
   ],
   "source": [
    "for model in models:\n",
    "    print(f'{model}: \\t {transactions[model][\"profit\"]*100:,.2f}%')"
   ]
  },
  {
   "cell_type": "code",
   "execution_count": 14,
   "metadata": {},
   "outputs": [
    {
     "name": "stdout",
     "output_type": "stream",
     "text": [
      "Tuned Logistic Regression Accuracy: 0.7283950617283951\n",
      "Best Parameters: {'C': 100, 'penalty': 'l1', 'solver': 'liblinear'}\n"
     ]
    }
   ],
   "source": [
    "import warnings\n",
    "warnings.filterwarnings('ignore')\n",
    "\n",
    "from sklearn.model_selection import GridSearchCV\n",
    "\n",
    "# Define the parameter grid\n",
    "param_grid = {\n",
    "    'C': [0.001, 0.01, 0.1, 1, 10, 100],\n",
    "    'penalty': ['l1', 'l2'],\n",
    "    'solver': ['newton-cg', 'lbfgs', 'liblinear', 'sag', 'saga']\n",
    "}\n",
    "\n",
    "# Create a GridSearchCV object\n",
    "log_reg_grid = GridSearchCV(LogisticRegression(random_state=42), param_grid, cv=5)\n",
    "\n",
    "# Fit to the data\n",
    "log_reg_grid.fit(X_train, y_train_logistic)\n",
    "\n",
    "# Get the best parameters and model\n",
    "tuned_params = log_reg_grid.best_params_\n",
    "log_reg_tuned = log_reg_grid.best_estimator_\n",
    "\n",
    "# Predict on the test set\n",
    "y_pred_log_tuned = log_reg_tuned.predict(X_test)\n",
    "\n",
    "# Evaluate accuracy\n",
    "accuracy_log_tuned = accuracy_score(y_test_logistic, y_pred_log_tuned)\n",
    "\n",
    "print(\"Tuned Logistic Regression Accuracy:\", accuracy_log_tuned)\n",
    "print(\"Best Parameters:\", tuned_params)"
   ]
  },
  {
   "cell_type": "code",
   "execution_count": 15,
   "metadata": {},
   "outputs": [],
   "source": [
    "backtest_data['log_reg_tuned_signal'] = y_pred_log_tuned\n",
    "backtest_data['log_reg_tuned_signal'] = backtest_data['log_reg_tuned_signal'].shift()\n",
    "\n",
    "all_models = models + ['log_reg_tuned']\n",
    "\n",
    "transactions2 = {\n",
    "    model: {\n",
    "        'buys': [],\n",
    "        'sells': [],\n",
    "    } for model in all_models\n",
    "}\n",
    "\n",
    "transactions2 = log_transactions(transactions2, all_models, backtest_data)"
   ]
  },
  {
   "cell_type": "code",
   "execution_count": 16,
   "metadata": {},
   "outputs": [
    {
     "name": "stdout",
     "output_type": "stream",
     "text": [
      "lin_reg: \t 2.27%\n",
      "log_reg: \t -0.97%\n",
      "log_reg_tuned: \t 1.39%\n"
     ]
    }
   ],
   "source": [
    "for model in all_models:\n",
    "    print(f'{model}: \\t {transactions2[model][\"profit\"]*100:,.2f}%')"
   ]
  },
  {
   "cell_type": "code",
   "execution_count": 19,
   "metadata": {},
   "outputs": [
    {
     "name": "stdout",
     "output_type": "stream",
     "text": [
      "Confusion Matrix:\n",
      "[[26 15]\n",
      " [ 7 33]]\n"
     ]
    }
   ],
   "source": [
    "from sklearn.metrics import confusion_matrix\n",
    "\n",
    "# Generate the confusion matrix\n",
    "cm = confusion_matrix(y_test_logistic, y_pred_log_tuned)\n",
    "\n",
    "# Print the confusion matrix\n",
    "print(\"Confusion Matrix:\")\n",
    "print(cm)\n"
   ]
  },
  {
   "cell_type": "code",
   "execution_count": 20,
   "metadata": {},
   "outputs": [
    {
     "data": {
      "image/png": "[encoded data removed]",
      "text/plain": [
       "<Figure size 1500x700 with 2 Axes>"
      ]
     },
     "metadata": {},
     "output_type": "display_data"
    }
   ],
   "source": [
    "sns.heatmap(cm, annot=True, fmt='d', cmap='Blues')\n",
    "plt.xlabel('Predicted')\n",
    "plt.ylabel('Actual')\n",
    "plt.show()"
   ]
  }
 ],
 "metadata": {
  "kernelspec": {
   "display_name": "Python 3",
   "language": "python",
   "name": "python3"
  },
  "language_info": {
   "codemirror_mode": {
    "name": "ipython",
    "version": 3
   },
   "file_extension": ".py",
   "mimetype": "text/x-python",
   "name": "python",
   "nbconvert_exporter": "python",
   "pygments_lexer": "ipython3",
   "version": "3.10.10"
  },
  "orig_nbformat": 4
 },
 "nbformat": 4,
 "nbformat_minor": 2
}
