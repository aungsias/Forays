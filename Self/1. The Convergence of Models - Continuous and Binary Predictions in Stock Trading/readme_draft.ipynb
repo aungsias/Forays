{
 "cells": [
  {
   "cell_type": "markdown",
   "metadata": {},
   "source": [
    "# The Convergence of Models\n",
    "### Continuous and Binary Predictions in Stock Trading\n",
    "\n",
    "Aung Si<br>\n",
    "August 30<sup>th</sup>, 2023"
   ]
  },
  {
   "cell_type": "markdown",
   "metadata": {},
   "source": [
    "---"
   ]
  },
  {
   "cell_type": "markdown",
   "metadata": {},
   "source": [
    "## Contents\n",
    "- [Introduction](#introduction)\n",
    "- [Methodology](#methodology)\n",
    "    - [A Note on Methodological Nuances](#a-note-on-methodological-nuances)\n",
    "    - [Breakdown](#breakdown)\n",
    "- [Minimizing False Positives: Precision](#minimizing-false-positives-precision)\n",
    "- [The Data](#the-data)\n",
    "- [Assessing MSFT](#assessing-msft)\n",
    "- [Model Building and Iteration](#model-building-and-iteration)"
   ]
  },
  {
   "cell_type": "markdown",
   "metadata": {},
   "source": [
    "---"
   ]
  },
  {
   "cell_type": "markdown",
   "metadata": {},
   "source": [
    "## Introduction\n",
    "Navigating the labyrinthine world of stock prediction is often fraught with erratic outcomes and sparse consistency. The prevailing wisdom, backed by a plethora of academic scrutiny, suggests that achieving reliable returns through predictive models remains elusive. This study sidesteps the traditional approach of stock price forecasting, opting instead to focus on daily stock returns—specifically for Microsoft (MSFT) from January 2022 to June 2023. We deploy linear and logistic regression models, scrutinizing their efficacy through metrics like RMSE and precision. Our aim is not to unearth a foolproof strategy for colossal gains but to explore the nuances in model selection and tuning, particularly under the constraints of real-world trading scenarios."
   ]
  },
  {
   "cell_type": "markdown",
   "metadata": {},
   "source": [
    "## Methodology\n",
    "\n",
    "### A Note On Methodological Nuances\n",
    "This study deliberately diverges from the standard practice of regressing stock values, opting instead to forecast directional stock return movement, denoted as -1 and 1 for downward and upward trends respectively. This pivot carries significant ramifications for both real-world utility and evaluative metrics. In the real trading environment, precise directional movement prediction often holds more actionable value than exact future stock prices. This aligns particularly well with long-only trading strategies, where the focus is on identifying stocks poised for upward movement.\n",
    "\n",
    "Evaluation metrics undergo a dual-phase transition. Initially, RMSE serves as the yardstick for selecting the optimal linear regressor, ensuring the chosen model minimizes the square errors of continuous return predictions. However, the model's output is then binarized to fit into a classification schema, at which point the evaluative spotlight shifts to precision. This metric is paramount in a long-only strategy, as it adeptly quantifies the model's ability to minimize false positives, a crucial factor in maximizing profitability. By employing RMSE in the initial phase and pivoting to precision for final assessment, the study harmonizes the evaluation process, making it possible to compare 'apples to apples' when transitioning from regression to classification models.\n",
    "\n",
    "### Breakdown\n",
    "\n",
    "1. **Data Preparation**\n",
    "    - The inputs—Open, High, Low, Volume, and Inflation—are transformed into percentage changes to improve linearity, followed by standard scaling for model optimization. These are used to predict our target, which is the signage of the daily returns of Microsoft (MSFT).<br>\n",
    "\n",
    "2. **Determining the Best Regressor** (each evaluated on RMSE)\n",
    "    - **Linear Regression**: Serves as the baseline.\n",
    "    - **Decision Tree Regression**: A non-linear model.\n",
    "    - **Tuning Decision Tree**: Hyperparameter-optimized using `GridSearchCV`.\n",
    "    - **Random Forest Regression**: An ensemble approach.\n",
    "    - **Tuning Random Forest**: Further refined through hyperparameter tuning.\n",
    "    - **Classification Conversion**: The best-performing regressor's output is binarized to indicate directionality, making precision and accuracy the pivotal metrics for this phase.<br>\n",
    "\n",
    "3. **Logistic Regression Modeling**\n",
    "    - Directly predicts binary outcomes, with performance gauged through precision.\n",
    "    - **Hyperparameter Tuning**: Grid search optimizes the logistic model, focusing on improving precision.<br>\n",
    "\n",
    "4. **Real-world Validation**\n",
    "    - Both models undergo back-testing in a long-only trading strategy, providing a real-world performance benchmark.\n"
   ]
  },
  {
   "cell_type": "markdown",
   "metadata": {},
   "source": [
    "## The Data\n",
    "\n",
    "The dataset scrutinized comprises daily trading variables for MSFT, spanning from January 1, 2022, to June 1, 2023.* We focus on salient trading indicators like volume, open, high, and low prices, augmented by the inflation rate as an external macroeconomic variable. These attributes are converted to percentage changes, a transformation aimed at enhancing their linearity and thereby optimizing their compatibility with linear models. Post-transformation, the features undergo standard scaling to normalize their ranges and boost model performance. This forms the bedrock for the ensuing model selection and performance evaluations.\n",
    "\n",
    "**The data is retrieved using `yfinance` and can be found [here](data/MSFT-20220101-20230601.csv).*"
   ]
  },
  {
   "cell_type": "markdown",
   "metadata": {},
   "source": [
    "## Minimizing False Positives: Precision\n",
    "\n",
    "In a long-only trading strategy, where the objective is to capitalize on upward market movements, the cost of false positives—incorrectly predicting a stock will rise when it actually declines—can be substantial. Precision emerges as a vital performance metric in this context. It quantifies the model's ability to correctly identify true positives while minimizing false positives, thus serving as a gauge of the model's reliability in maximizing profitability.\n",
    "\n",
    "By focusing on precision as the evaluative metric, the study aligns the model assessment process with the real-world trading objectives. This is particularly crucial when the model's recommendations directly influence trading decisions, where a high rate of false positives can erode the investment capital rapidly. In sum, the choice of precision as the primary metric offers a targeted approach to model evaluation, one that is particularly aligned with the risk and reward profile of a long-only trading strategy."
   ]
  },
  {
   "cell_type": "markdown",
   "metadata": {},
   "source": [
    "## Assessing MSFT\n",
    "\n",
    "<img src=\"img/MSFT.png\" alt=\"MSFT, Cumulative Returns\" width=\"75%\" height=\"75%\">\n",
    "\n",
    "In assessing Microsoft's (MSFT) financial performance, key metrics reveal a nuanced picture:\n",
    "\n",
    "<img src=\"img/MSFT_stats.png\" alt=\"MSFT Metrics\" width=\"75%\" height=\"75%\">\n",
    "\n",
    "The cumulative return of 1.22% indicates modest capital appreciation, while an annual return of 6.55% offers moderate, yet consistent gains. However, these rewards come at the cost of elevated risk, as reflected in the annual volatility of 33.79% and a maximum drawdown of -34.45%. The Sharpe ratio of 0.13 further underscores that these returns are attained by shouldering a considerable amount of risk. It's noteworthy that these statistics come on the heels of a turbulent 2022, marked by record-high inflation rates that led to a broad stock market downturn. While tech stocks, including MSFT, have generally shown signs of recovery this year, the outlook remains uncertain. Given this backdrop, MSFT appears to be an investment suited for those with higher risk tolerance, seeking moderate returns in a market still finding its footing post-crash.\n",
    "\n",
    "The nature of inflation in the past year is shown below:\n",
    "\n",
    "<img src=\"img/inflation.png\" alt=\"Inflation\" width=\"50%\" height=\"50%\">"
   ]
  },
  {
   "cell_type": "markdown",
   "metadata": {},
   "source": [
    "## Model Building and Iteration\n",
    "The objective was two-fold: first, to identify the best-performing regressor based on RMSE, and then to turn its predictions into binary form for comparison with classifiers. Second, to choose the best-performing classifier, also based on cross-validation scores. All regressors were evaluated on RMSE using 5-fold cross-validation. Among them, Linear Regression secured the lowest test RMSE of 0.014, and was therefore selected:\n",
    "\n",
    "\n",
    "The predictions from this model were then converted to binary form for further analysis. \n",
    "\n",
    "When tested on unseen data, the binary predictions from the Linear Regression model yielded a precision score of 0.729 and an accuracy score of 0.760. The Tuned Logistic Regression model, however, showed superior performance, achieving a precision score of 0.8511 and an accuracy score of 0.8200. This indicates that Tuned Logistic Regression is more effective in minimizing false positives, making it a preferred choice in a long-only trading strategy."
   ]
  }
 ],
 "metadata": {
  "language_info": {
   "name": "python"
  },
  "orig_nbformat": 4
 },
 "nbformat": 4,
 "nbformat_minor": 2
}
