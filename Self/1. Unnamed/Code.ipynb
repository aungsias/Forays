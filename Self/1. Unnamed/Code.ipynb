{
 "cells": [
  {
   "cell_type": "code",
   "execution_count": 1,
   "metadata": {},
   "outputs": [],
   "source": [
    "import pandas as pd\n",
    "import numpy as np\n",
    "import matplotlib.pyplot as plt"
   ]
  },
  {
   "cell_type": "code",
   "execution_count": 5,
   "metadata": {},
   "outputs": [
    {
     "data": {
      "text/html": [
       "<div>\n",
       "<style scoped>\n",
       "    .dataframe tbody tr th:only-of-type {\n",
       "        vertical-align: middle;\n",
       "    }\n",
       "\n",
       "    .dataframe tbody tr th {\n",
       "        vertical-align: top;\n",
       "    }\n",
       "\n",
       "    .dataframe thead th {\n",
       "        text-align: right;\n",
       "    }\n",
       "</style>\n",
       "<table border=\"1\" class=\"dataframe\">\n",
       "  <thead>\n",
       "    <tr style=\"text-align: right;\">\n",
       "      <th></th>\n",
       "      <th>SPY</th>\n",
       "      <th>AGG</th>\n",
       "      <th>DBC</th>\n",
       "      <th>VTI</th>\n",
       "      <th>^VIX</th>\n",
       "    </tr>\n",
       "    <tr>\n",
       "      <th>Date</th>\n",
       "      <th></th>\n",
       "      <th></th>\n",
       "      <th></th>\n",
       "      <th></th>\n",
       "      <th></th>\n",
       "    </tr>\n",
       "  </thead>\n",
       "  <tbody>\n",
       "    <tr>\n",
       "      <th>2007-01-03</th>\n",
       "      <td>0.000000</td>\n",
       "      <td>0.000000</td>\n",
       "      <td>0.000000</td>\n",
       "      <td>0.000000</td>\n",
       "      <td>0.000000</td>\n",
       "    </tr>\n",
       "    <tr>\n",
       "      <th>2007-01-04</th>\n",
       "      <td>0.002120</td>\n",
       "      <td>0.002100</td>\n",
       "      <td>-0.026396</td>\n",
       "      <td>0.001999</td>\n",
       "      <td>-0.045018</td>\n",
       "    </tr>\n",
       "    <tr>\n",
       "      <th>2007-01-05</th>\n",
       "      <td>-0.008008</td>\n",
       "      <td>-0.000699</td>\n",
       "      <td>-0.003457</td>\n",
       "      <td>-0.007947</td>\n",
       "      <td>0.053290</td>\n",
       "    </tr>\n",
       "    <tr>\n",
       "      <th>2007-01-08</th>\n",
       "      <td>0.004614</td>\n",
       "      <td>0.000599</td>\n",
       "      <td>0.005181</td>\n",
       "      <td>0.003659</td>\n",
       "      <td>-0.011599</td>\n",
       "    </tr>\n",
       "    <tr>\n",
       "      <th>2007-01-09</th>\n",
       "      <td>-0.000850</td>\n",
       "      <td>0.000000</td>\n",
       "      <td>-0.008651</td>\n",
       "      <td>0.000000</td>\n",
       "      <td>-0.007528</td>\n",
       "    </tr>\n",
       "  </tbody>\n",
       "</table>\n",
       "</div>"
      ],
      "text/plain": [
       "                 SPY       AGG       DBC       VTI      ^VIX\n",
       "Date                                                        \n",
       "2007-01-03  0.000000  0.000000  0.000000  0.000000  0.000000\n",
       "2007-01-04  0.002120  0.002100 -0.026396  0.001999 -0.045018\n",
       "2007-01-05 -0.008008 -0.000699 -0.003457 -0.007947  0.053290\n",
       "2007-01-08  0.004614  0.000599  0.005181  0.003659 -0.011599\n",
       "2007-01-09 -0.000850  0.000000 -0.008651  0.000000 -0.007528"
      ]
     },
     "execution_count": 5,
     "metadata": {},
     "output_type": "execute_result"
    }
   ],
   "source": [
    "stock = 'SPY'\n",
    "factor_list = ['bond_index', 'comm_index', 'stock_index', 'vol_index']\n",
    "\n",
    "prices = pd.read_csv('data/SPY-prices-20070103-20230804.csv', index_col='Date', parse_dates=True)\n",
    "indices = pd.read_csv('data/VTI-AGG-DBC-VIX-prices-20070103-20230804.csv', index_col='Date', parse_dates=True)\n",
    "prices.rename(columns={'Close': stock}, inplace=True)\n",
    "indices.rename(columns=)\n",
    "\n",
    "data = pd.merge(prices, indices, on='Date')\n",
    "data = np.log(data).diff().fillna(0)\n",
    "data.head()"
   ]
  }
 ],
 "metadata": {
  "kernelspec": {
   "display_name": "Python 3",
   "language": "python",
   "name": "python3"
  },
  "language_info": {
   "codemirror_mode": {
    "name": "ipython",
    "version": 3
   },
   "file_extension": ".py",
   "mimetype": "text/x-python",
   "name": "python",
   "nbconvert_exporter": "python",
   "pygments_lexer": "ipython3",
   "version": "3.10.10"
  },
  "orig_nbformat": 4
 },
 "nbformat": 4,
 "nbformat_minor": 2
}
