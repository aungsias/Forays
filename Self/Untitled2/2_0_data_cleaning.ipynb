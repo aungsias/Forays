{
 "cells": [
  {
   "cell_type": "code",
   "execution_count": 23,
   "metadata": {},
   "outputs": [],
   "source": [
    "import pickle\n",
    "import pandas as pd"
   ]
  },
  {
   "cell_type": "code",
   "execution_count": 24,
   "metadata": {},
   "outputs": [],
   "source": [
    "stock_prices = pd.read_csv(\n",
    "    'data/stock_prices.csv', index_col='Date', parse_dates=True\n",
    ")\n",
    "\n",
    "with open('data/stock_fundamentals.pkl', 'rb') as f:\n",
    "    stock_fundamentals = pickle.load(f)"
   ]
  },
  {
   "cell_type": "code",
   "execution_count": 25,
   "metadata": {},
   "outputs": [],
   "source": [
    "stock_prices = stock_prices['2000':]"
   ]
  },
  {
   "cell_type": "code",
   "execution_count": 26,
   "metadata": {},
   "outputs": [],
   "source": [
    "stock_prices = stock_prices.resample('Q').first()"
   ]
  },
  {
   "cell_type": "code",
   "execution_count": 27,
   "metadata": {},
   "outputs": [],
   "source": [
    "selected_factors = [\n",
    "    'peRatio', \n",
    "    'marketCap',\n",
    "    'priceToSalesRatio',\n",
    "    'ptbRatio',\n",
    "    'enterpriseValueOverEBITDA', \n",
    "    'netIncomePerShare', \n",
    "    'roe', \n",
    "    'returnOnTangibleAssets', \n",
    "    'freeCashFlowPerShare', \n",
    "    'operatingCashFlowPerShare', \n",
    "    'currentRatio', \n",
    "    'debtToEquity',\n",
    "    'capexToOperatingCashFlow', \n",
    "    'grahamNumber',\n",
    "    'incomeQuality'\n",
    "]\n",
    "\n",
    "\n",
    "stock_fundamentals = {\n",
    "    stock: data.drop(['period', 'symbol'], axis=1)[selected_factors] \\\n",
    "        for stock, data in stock_fundamentals.items()\n",
    "}"
   ]
  },
  {
   "cell_type": "code",
   "execution_count": 28,
   "metadata": {},
   "outputs": [],
   "source": [
    "first_valid_indices = {\n",
    "    stock: data.first_valid_index() \\\n",
    "        for stock, data in stock_fundamentals.items()\n",
    "}"
   ]
  },
  {
   "cell_type": "code",
   "execution_count": 29,
   "metadata": {},
   "outputs": [
    {
     "data": {
      "text/plain": [
       "('1991-03-31', 234)"
      ]
     },
     "execution_count": 29,
     "metadata": {},
     "output_type": "execute_result"
    }
   ],
   "source": [
    "from collections import Counter\n",
    "\n",
    "def get_most_common_index(dict):\n",
    "    freqs = Counter(dict.values())\n",
    "    mode, freq = freqs.most_common()[0]\n",
    "    return mode, freq\n",
    "\n",
    "most_common_index, frequency = get_most_common_index(first_valid_indices)\n",
    "most_common_index, frequency"
   ]
  },
  {
   "cell_type": "code",
   "execution_count": 30,
   "metadata": {},
   "outputs": [],
   "source": [
    "filtered_stock_fundamentals = {\n",
    "    stock: data for stock, data in stock_fundamentals.items() \\\n",
    "        if first_valid_indices[stock] == most_common_index\n",
    "}\n",
    "\n",
    "for stock in filtered_stock_fundamentals.keys():\n",
    "    filtered_stock_fundamentals[stock].index = pd.to_datetime(filtered_stock_fundamentals[stock].index)\n",
    "    filtered_stock_fundamentals[stock] = filtered_stock_fundamentals[stock].reindex(stock_prices.index)\n",
    "    filtered_stock_fundamentals[stock].interpolate(method='time', inplace=True)"
   ]
  },
  {
   "cell_type": "code",
   "execution_count": 31,
   "metadata": {},
   "outputs": [],
   "source": [
    "cleaned_stock_fundamentals = {\n",
    "    stock: data for stock, data in filtered_stock_fundamentals.items() \\\n",
    "        if data.isnull().sum().sum() == 0\n",
    "}"
   ]
  },
  {
   "cell_type": "code",
   "execution_count": 32,
   "metadata": {},
   "outputs": [],
   "source": [
    "stock_prices = stock_prices[cleaned_stock_fundamentals.keys()].dropna(axis=1, how='any')\n",
    "cleaned_stock_fundamentals = {\n",
    "    stock: data for stock, data in cleaned_stock_fundamentals.items() \\\n",
    "        if stock in stock_prices.columns\n",
    "}"
   ]
  },
  {
   "cell_type": "code",
   "execution_count": 33,
   "metadata": {},
   "outputs": [],
   "source": [
    "stock_prices.to_csv('data/cleaned_stock_prices.csv')\n",
    "\n",
    "with open('data/cleaned_stock_fundamentals.pkl', 'wb') as f:\n",
    "    pickle.dump(cleaned_stock_fundamentals, f)"
   ]
  },
  {
   "cell_type": "code",
   "execution_count": null,
   "metadata": {},
   "outputs": [],
   "source": []
  }
 ],
 "metadata": {
  "kernelspec": {
   "display_name": "Python 3",
   "language": "python",
   "name": "python3"
  },
  "language_info": {
   "codemirror_mode": {
    "name": "ipython",
    "version": 3
   },
   "file_extension": ".py",
   "mimetype": "text/x-python",
   "name": "python",
   "nbconvert_exporter": "python",
   "pygments_lexer": "ipython3",
   "version": "3.10.10"
  },
  "orig_nbformat": 4
 },
 "nbformat": 4,
 "nbformat_minor": 2
}
