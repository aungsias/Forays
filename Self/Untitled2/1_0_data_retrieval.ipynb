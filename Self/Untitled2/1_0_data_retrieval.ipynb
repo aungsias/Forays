{
 "cells": [
  {
   "cell_type": "code",
   "execution_count": 2,
   "metadata": {},
   "outputs": [],
   "source": [
    "import capstone.data as cd"
   ]
  },
  {
   "cell_type": "code",
   "execution_count": 3,
   "metadata": {},
   "outputs": [],
   "source": [
    "seed = 8\n",
    "tickers = cd.fetch_snp_tickers()"
   ]
  },
  {
   "cell_type": "code",
   "execution_count": null,
   "metadata": {},
   "outputs": [],
   "source": [
    "start = '1990-01-01'\n",
    "end = '2023-09-04'\n",
    "\n",
    "stock_prices = cd.fetch_stock_data(tickers, start, end, 'Adj Close', progress=True)\n",
    "stock_prices.to_csv('data/stock_prices.csv')"
   ]
  },
  {
   "cell_type": "code",
   "execution_count": null,
   "metadata": {},
   "outputs": [],
   "source": [
    "from tqdm import tqdm\n",
    "import pickle\n",
    "\n",
    "api_key = 'xxxxxxxxxxxxxxxxx'\n",
    "\n",
    "fundamentals = {}\n",
    "for stock in tqdm(stock_prices.columns):\n",
    "    fundamentals[stock] = cd.fetch_fundamentals(stock, api_key=api_key)\n",
    "\n",
    "with open('data/stock_fundamentals.pkl', 'wb') as f:\n",
    "    pickle.dump(fundamentals, f)"
   ]
  },
  {
   "cell_type": "code",
   "execution_count": null,
   "metadata": {},
   "outputs": [],
   "source": []
  }
 ],
 "metadata": {
  "kernelspec": {
   "display_name": "Python 3",
   "language": "python",
   "name": "python3"
  },
  "language_info": {
   "codemirror_mode": {
    "name": "ipython",
    "version": 3
   },
   "file_extension": ".py",
   "mimetype": "text/x-python",
   "name": "python",
   "nbconvert_exporter": "python",
   "pygments_lexer": "ipython3",
   "version": "3.10.10"
  },
  "orig_nbformat": 4
 },
 "nbformat": 4,
 "nbformat_minor": 2
}
