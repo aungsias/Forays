{
 "cells": [
  {
   "cell_type": "code",
   "execution_count": 1,
   "metadata": {},
   "outputs": [],
   "source": [
    "import pandas as pd\n",
    "import numpy as np\n",
    "import yfinance as yf\n",
    "import random\n",
    "import seaborn as sns\n",
    "import matplotlib.pyplot as plt\n",
    "\n",
    "import helper.utils as utils\n",
    "import helper.data as get\n",
    "import helper.decompose as decomp\n",
    "\n",
    "from pprint import pprint\n",
    "\n",
    "sns.set_style('whitegrid')\n",
    "plt.rcParams['axes.edgecolor'] = 'k'\n",
    "plt.rcParams['lines.linewidth'] = 1\n",
    "\n",
    "rs = 88"
   ]
  },
  {
   "cell_type": "code",
   "execution_count": 2,
   "metadata": {},
   "outputs": [
    {
     "data": {
      "text/html": [
       "<div>\n",
       "<style scoped>\n",
       "    .dataframe tbody tr th:only-of-type {\n",
       "        vertical-align: middle;\n",
       "    }\n",
       "\n",
       "    .dataframe tbody tr th {\n",
       "        vertical-align: top;\n",
       "    }\n",
       "\n",
       "    .dataframe thead th {\n",
       "        text-align: right;\n",
       "    }\n",
       "</style>\n",
       "<table border=\"1\" class=\"dataframe\">\n",
       "  <thead>\n",
       "    <tr style=\"text-align: right;\">\n",
       "      <th></th>\n",
       "      <th>ACN</th>\n",
       "      <th>ADBE</th>\n",
       "      <th>BA</th>\n",
       "      <th>BDX</th>\n",
       "      <th>BLK</th>\n",
       "      <th>CAH</th>\n",
       "      <th>CBOE</th>\n",
       "      <th>CE</th>\n",
       "      <th>CFG</th>\n",
       "      <th>DGX</th>\n",
       "      <th>...</th>\n",
       "      <th>JPM</th>\n",
       "      <th>LLY</th>\n",
       "      <th>MCD</th>\n",
       "      <th>NXPI</th>\n",
       "      <th>ON</th>\n",
       "      <th>ORLY</th>\n",
       "      <th>TROW</th>\n",
       "      <th>UAL</th>\n",
       "      <th>WST</th>\n",
       "      <th>YUM</th>\n",
       "    </tr>\n",
       "    <tr>\n",
       "      <th>Date</th>\n",
       "      <th></th>\n",
       "      <th></th>\n",
       "      <th></th>\n",
       "      <th></th>\n",
       "      <th></th>\n",
       "      <th></th>\n",
       "      <th></th>\n",
       "      <th></th>\n",
       "      <th></th>\n",
       "      <th></th>\n",
       "      <th></th>\n",
       "      <th></th>\n",
       "      <th></th>\n",
       "      <th></th>\n",
       "      <th></th>\n",
       "      <th></th>\n",
       "      <th></th>\n",
       "      <th></th>\n",
       "      <th></th>\n",
       "      <th></th>\n",
       "      <th></th>\n",
       "    </tr>\n",
       "  </thead>\n",
       "  <tbody>\n",
       "    <tr>\n",
       "      <th>2018-01-02</th>\n",
       "      <td>141.472977</td>\n",
       "      <td>177.699997</td>\n",
       "      <td>282.886383</td>\n",
       "      <td>197.490311</td>\n",
       "      <td>441.443451</td>\n",
       "      <td>52.057705</td>\n",
       "      <td>121.389282</td>\n",
       "      <td>94.114975</td>\n",
       "      <td>33.833683</td>\n",
       "      <td>88.085724</td>\n",
       "      <td>...</td>\n",
       "      <td>91.350372</td>\n",
       "      <td>76.347435</td>\n",
       "      <td>152.204285</td>\n",
       "      <td>109.646767</td>\n",
       "      <td>21.809999</td>\n",
       "      <td>249.259995</td>\n",
       "      <td>85.742859</td>\n",
       "      <td>68.940002</td>\n",
       "      <td>97.520950</td>\n",
       "      <td>73.644981</td>\n",
       "    </tr>\n",
       "    <tr>\n",
       "      <th>2018-01-03</th>\n",
       "      <td>142.125885</td>\n",
       "      <td>181.039993</td>\n",
       "      <td>283.801239</td>\n",
       "      <td>199.439468</td>\n",
       "      <td>446.101044</td>\n",
       "      <td>51.753082</td>\n",
       "      <td>122.190308</td>\n",
       "      <td>94.485229</td>\n",
       "      <td>34.222118</td>\n",
       "      <td>88.397446</td>\n",
       "      <td>...</td>\n",
       "      <td>91.443451</td>\n",
       "      <td>76.762161</td>\n",
       "      <td>151.562897</td>\n",
       "      <td>109.767601</td>\n",
       "      <td>22.780001</td>\n",
       "      <td>253.839996</td>\n",
       "      <td>86.915718</td>\n",
       "      <td>68.489998</td>\n",
       "      <td>97.638550</td>\n",
       "      <td>73.581825</td>\n",
       "    </tr>\n",
       "    <tr>\n",
       "      <th>2018-01-04</th>\n",
       "      <td>143.808777</td>\n",
       "      <td>183.220001</td>\n",
       "      <td>282.724396</td>\n",
       "      <td>200.346100</td>\n",
       "      <td>451.990112</td>\n",
       "      <td>52.411732</td>\n",
       "      <td>122.664986</td>\n",
       "      <td>94.538116</td>\n",
       "      <td>34.626411</td>\n",
       "      <td>88.246040</td>\n",
       "      <td>...</td>\n",
       "      <td>92.753433</td>\n",
       "      <td>77.104767</td>\n",
       "      <td>152.626083</td>\n",
       "      <td>109.572411</td>\n",
       "      <td>22.780001</td>\n",
       "      <td>257.679993</td>\n",
       "      <td>87.597809</td>\n",
       "      <td>69.260002</td>\n",
       "      <td>97.609161</td>\n",
       "      <td>74.330910</td>\n",
       "    </tr>\n",
       "  </tbody>\n",
       "</table>\n",
       "<p>3 rows × 25 columns</p>\n",
       "</div>"
      ],
      "text/plain": [
       "                   ACN        ADBE          BA         BDX         BLK  \\\n",
       "Date                                                                     \n",
       "2018-01-02  141.472977  177.699997  282.886383  197.490311  441.443451   \n",
       "2018-01-03  142.125885  181.039993  283.801239  199.439468  446.101044   \n",
       "2018-01-04  143.808777  183.220001  282.724396  200.346100  451.990112   \n",
       "\n",
       "                  CAH        CBOE         CE        CFG        DGX  ...  \\\n",
       "Date                                                                ...   \n",
       "2018-01-02  52.057705  121.389282  94.114975  33.833683  88.085724  ...   \n",
       "2018-01-03  51.753082  122.190308  94.485229  34.222118  88.397446  ...   \n",
       "2018-01-04  52.411732  122.664986  94.538116  34.626411  88.246040  ...   \n",
       "\n",
       "                  JPM        LLY         MCD        NXPI         ON  \\\n",
       "Date                                                                  \n",
       "2018-01-02  91.350372  76.347435  152.204285  109.646767  21.809999   \n",
       "2018-01-03  91.443451  76.762161  151.562897  109.767601  22.780001   \n",
       "2018-01-04  92.753433  77.104767  152.626083  109.572411  22.780001   \n",
       "\n",
       "                  ORLY       TROW        UAL        WST        YUM  \n",
       "Date                                                                \n",
       "2018-01-02  249.259995  85.742859  68.940002  97.520950  73.644981  \n",
       "2018-01-03  253.839996  86.915718  68.489998  97.638550  73.581825  \n",
       "2018-01-04  257.679993  87.597809  69.260002  97.609161  74.330910  \n",
       "\n",
       "[3 rows x 25 columns]"
      ]
     },
     "execution_count": 2,
     "metadata": {},
     "output_type": "execute_result"
    }
   ],
   "source": [
    "start_date = '2018-01-01'\n",
    "end_date = '2023-08-29'\n",
    "\n",
    "snp_tickers = get.snp_tickers_random(random_state=rs, sample=26)\n",
    "snp_prices = get.fetch_stock_data(\n",
    "    snp_tickers, \n",
    "    start_date, \n",
    "    end_date,\n",
    "    col='Adj Close'\n",
    ")\n",
    "\n",
    "snp_prices.head(3)"
   ]
  },
  {
   "cell_type": "code",
   "execution_count": 3,
   "metadata": {},
   "outputs": [
    {
     "data": {
      "text/html": [
       "<div>\n",
       "<style scoped>\n",
       "    .dataframe tbody tr th:only-of-type {\n",
       "        vertical-align: middle;\n",
       "    }\n",
       "\n",
       "    .dataframe tbody tr th {\n",
       "        vertical-align: top;\n",
       "    }\n",
       "\n",
       "    .dataframe thead th {\n",
       "        text-align: right;\n",
       "    }\n",
       "</style>\n",
       "<table border=\"1\" class=\"dataframe\">\n",
       "  <thead>\n",
       "    <tr style=\"text-align: right;\">\n",
       "      <th></th>\n",
       "      <th>ACN</th>\n",
       "      <th>ADBE</th>\n",
       "      <th>BA</th>\n",
       "      <th>BDX</th>\n",
       "      <th>BLK</th>\n",
       "      <th>CAH</th>\n",
       "      <th>CBOE</th>\n",
       "      <th>CE</th>\n",
       "      <th>CFG</th>\n",
       "      <th>DGX</th>\n",
       "      <th>...</th>\n",
       "      <th>JPM</th>\n",
       "      <th>LLY</th>\n",
       "      <th>MCD</th>\n",
       "      <th>NXPI</th>\n",
       "      <th>ON</th>\n",
       "      <th>ORLY</th>\n",
       "      <th>TROW</th>\n",
       "      <th>UAL</th>\n",
       "      <th>WST</th>\n",
       "      <th>YUM</th>\n",
       "    </tr>\n",
       "    <tr>\n",
       "      <th>Date</th>\n",
       "      <th></th>\n",
       "      <th></th>\n",
       "      <th></th>\n",
       "      <th></th>\n",
       "      <th></th>\n",
       "      <th></th>\n",
       "      <th></th>\n",
       "      <th></th>\n",
       "      <th></th>\n",
       "      <th></th>\n",
       "      <th></th>\n",
       "      <th></th>\n",
       "      <th></th>\n",
       "      <th></th>\n",
       "      <th></th>\n",
       "      <th></th>\n",
       "      <th></th>\n",
       "      <th></th>\n",
       "      <th></th>\n",
       "      <th></th>\n",
       "      <th></th>\n",
       "    </tr>\n",
       "  </thead>\n",
       "  <tbody>\n",
       "    <tr>\n",
       "      <th>2018-01-02</th>\n",
       "      <td>NaN</td>\n",
       "      <td>NaN</td>\n",
       "      <td>NaN</td>\n",
       "      <td>NaN</td>\n",
       "      <td>NaN</td>\n",
       "      <td>NaN</td>\n",
       "      <td>NaN</td>\n",
       "      <td>NaN</td>\n",
       "      <td>NaN</td>\n",
       "      <td>NaN</td>\n",
       "      <td>...</td>\n",
       "      <td>NaN</td>\n",
       "      <td>NaN</td>\n",
       "      <td>NaN</td>\n",
       "      <td>NaN</td>\n",
       "      <td>NaN</td>\n",
       "      <td>NaN</td>\n",
       "      <td>NaN</td>\n",
       "      <td>NaN</td>\n",
       "      <td>NaN</td>\n",
       "      <td>NaN</td>\n",
       "    </tr>\n",
       "    <tr>\n",
       "      <th>2018-01-03</th>\n",
       "      <td>0.004615</td>\n",
       "      <td>0.018796</td>\n",
       "      <td>0.003234</td>\n",
       "      <td>0.009870</td>\n",
       "      <td>0.010551</td>\n",
       "      <td>-0.005852</td>\n",
       "      <td>0.006599</td>\n",
       "      <td>0.003934</td>\n",
       "      <td>0.011481</td>\n",
       "      <td>0.003539</td>\n",
       "      <td>...</td>\n",
       "      <td>0.001019</td>\n",
       "      <td>0.005432</td>\n",
       "      <td>-0.004214</td>\n",
       "      <td>0.001102</td>\n",
       "      <td>0.044475</td>\n",
       "      <td>0.018374</td>\n",
       "      <td>0.013679</td>\n",
       "      <td>-0.006527</td>\n",
       "      <td>0.001206</td>\n",
       "      <td>-0.000858</td>\n",
       "    </tr>\n",
       "    <tr>\n",
       "      <th>2018-01-04</th>\n",
       "      <td>0.011841</td>\n",
       "      <td>0.012042</td>\n",
       "      <td>-0.003794</td>\n",
       "      <td>0.004546</td>\n",
       "      <td>0.013201</td>\n",
       "      <td>0.012727</td>\n",
       "      <td>0.003885</td>\n",
       "      <td>0.000560</td>\n",
       "      <td>0.011814</td>\n",
       "      <td>-0.001713</td>\n",
       "      <td>...</td>\n",
       "      <td>0.014326</td>\n",
       "      <td>0.004463</td>\n",
       "      <td>0.007015</td>\n",
       "      <td>-0.001778</td>\n",
       "      <td>0.000000</td>\n",
       "      <td>0.015128</td>\n",
       "      <td>0.007848</td>\n",
       "      <td>0.011243</td>\n",
       "      <td>-0.000301</td>\n",
       "      <td>0.010180</td>\n",
       "    </tr>\n",
       "  </tbody>\n",
       "</table>\n",
       "<p>3 rows × 25 columns</p>\n",
       "</div>"
      ],
      "text/plain": [
       "                 ACN      ADBE        BA       BDX       BLK       CAH  \\\n",
       "Date                                                                     \n",
       "2018-01-02       NaN       NaN       NaN       NaN       NaN       NaN   \n",
       "2018-01-03  0.004615  0.018796  0.003234  0.009870  0.010551 -0.005852   \n",
       "2018-01-04  0.011841  0.012042 -0.003794  0.004546  0.013201  0.012727   \n",
       "\n",
       "                CBOE        CE       CFG       DGX  ...       JPM       LLY  \\\n",
       "Date                                                ...                       \n",
       "2018-01-02       NaN       NaN       NaN       NaN  ...       NaN       NaN   \n",
       "2018-01-03  0.006599  0.003934  0.011481  0.003539  ...  0.001019  0.005432   \n",
       "2018-01-04  0.003885  0.000560  0.011814 -0.001713  ...  0.014326  0.004463   \n",
       "\n",
       "                 MCD      NXPI        ON      ORLY      TROW       UAL  \\\n",
       "Date                                                                     \n",
       "2018-01-02       NaN       NaN       NaN       NaN       NaN       NaN   \n",
       "2018-01-03 -0.004214  0.001102  0.044475  0.018374  0.013679 -0.006527   \n",
       "2018-01-04  0.007015 -0.001778  0.000000  0.015128  0.007848  0.011243   \n",
       "\n",
       "                 WST       YUM  \n",
       "Date                            \n",
       "2018-01-02       NaN       NaN  \n",
       "2018-01-03  0.001206 -0.000858  \n",
       "2018-01-04 -0.000301  0.010180  \n",
       "\n",
       "[3 rows x 25 columns]"
      ]
     },
     "execution_count": 3,
     "metadata": {},
     "output_type": "execute_result"
    }
   ],
   "source": [
    "# Compute stock returns\n",
    "\n",
    "snp_returns = snp_prices.pct_change()\n",
    "\n",
    "snp_returns.head(3)"
   ]
  },
  {
   "cell_type": "markdown",
   "metadata": {},
   "source": [
    "### Indices (4 features)"
   ]
  },
  {
   "cell_type": "code",
   "execution_count": 4,
   "metadata": {},
   "outputs": [
    {
     "data": {
      "text/html": [
       "<div>\n",
       "<style scoped>\n",
       "    .dataframe tbody tr th:only-of-type {\n",
       "        vertical-align: middle;\n",
       "    }\n",
       "\n",
       "    .dataframe tbody tr th {\n",
       "        vertical-align: top;\n",
       "    }\n",
       "\n",
       "    .dataframe thead th {\n",
       "        text-align: right;\n",
       "    }\n",
       "</style>\n",
       "<table border=\"1\" class=\"dataframe\">\n",
       "  <thead>\n",
       "    <tr style=\"text-align: right;\">\n",
       "      <th></th>\n",
       "      <th>AGG</th>\n",
       "      <th>DBC</th>\n",
       "      <th>VTI</th>\n",
       "      <th>^VIX</th>\n",
       "    </tr>\n",
       "    <tr>\n",
       "      <th>Date</th>\n",
       "      <th></th>\n",
       "      <th></th>\n",
       "      <th></th>\n",
       "      <th></th>\n",
       "    </tr>\n",
       "  </thead>\n",
       "  <tbody>\n",
       "    <tr>\n",
       "      <th>2018-01-02</th>\n",
       "      <td>95.199577</td>\n",
       "      <td>16.118902</td>\n",
       "      <td>125.981003</td>\n",
       "      <td>9.77</td>\n",
       "    </tr>\n",
       "    <tr>\n",
       "      <th>2018-01-03</th>\n",
       "      <td>95.208282</td>\n",
       "      <td>16.215483</td>\n",
       "      <td>126.710159</td>\n",
       "      <td>9.15</td>\n",
       "    </tr>\n",
       "    <tr>\n",
       "      <th>2018-01-04</th>\n",
       "      <td>95.147232</td>\n",
       "      <td>16.196165</td>\n",
       "      <td>127.193207</td>\n",
       "      <td>9.22</td>\n",
       "    </tr>\n",
       "  </tbody>\n",
       "</table>\n",
       "</div>"
      ],
      "text/plain": [
       "                  AGG        DBC         VTI  ^VIX\n",
       "Date                                              \n",
       "2018-01-02  95.199577  16.118902  125.981003  9.77\n",
       "2018-01-03  95.208282  16.215483  126.710159  9.15\n",
       "2018-01-04  95.147232  16.196165  127.193207  9.22"
      ]
     },
     "execution_count": 4,
     "metadata": {},
     "output_type": "execute_result"
    }
   ],
   "source": [
    "# Engineer stock features\n",
    "\n",
    "indices = ['VTI', 'DBC', 'AGG', '^VIX']\n",
    "index_prices = get.fetch_stock_data(\n",
    "    indices, \n",
    "    start_date, \n",
    "    end_date, \n",
    "    col='Adj Close'\n",
    ")\n",
    "\n",
    "index_prices.head(3)"
   ]
  },
  {
   "cell_type": "code",
   "execution_count": 5,
   "metadata": {},
   "outputs": [
    {
     "name": "stdout",
     "output_type": "stream",
     "text": [
      " 1.0    810\n",
      "-1.0    583\n",
      "Name: AGG, dtype: int64\n",
      " 1.0    845\n",
      "-1.0    544\n",
      " 0.0      4\n",
      "Name: DBC, dtype: int64\n",
      " 1.0    931\n",
      "-1.0    461\n",
      " 0.0      1\n",
      "Name: VTI, dtype: int64\n",
      "-1.0    749\n",
      " 1.0    641\n",
      " 0.0      3\n",
      "Name: ^VIX, dtype: int64\n"
     ]
    }
   ],
   "source": [
    "# 31-day index trend\n",
    "\n",
    "window = 30\n",
    "\n",
    "index_return_trend = np.sign(index_prices.pct_change(window))\n",
    "for col in index_return_trend:\n",
    "    print(index_return_trend[col].value_counts())"
   ]
  },
  {
   "cell_type": "code",
   "execution_count": 30,
   "metadata": {},
   "outputs": [
    {
     "name": "stdout",
     "output_type": "stream",
     "text": [
      " 1.0    810\n",
      "-1.0    583\n",
      "Name: AGG, dtype: int64\n",
      " 1.0    845\n",
      "-1.0    544\n",
      "Name: DBC, dtype: int64\n",
      " 1.0    931\n",
      "-1.0    461\n",
      "Name: VTI, dtype: int64\n",
      "-1.0    749\n",
      " 1.0    641\n",
      "Name: ^VIX, dtype: int64\n"
     ]
    }
   ],
   "source": [
    "index_return_trend = index_return_trend.replace(0, np.nan)\n",
    "for col in index_return_trend:\n",
    "    print(index_return_trend[col].value_counts())"
   ]
  },
  {
   "cell_type": "code",
   "execution_count": 7,
   "metadata": {},
   "outputs": [
    {
     "data": {
      "text/html": [
       "<div>\n",
       "<style scoped>\n",
       "    .dataframe tbody tr th:only-of-type {\n",
       "        vertical-align: middle;\n",
       "    }\n",
       "\n",
       "    .dataframe tbody tr th {\n",
       "        vertical-align: top;\n",
       "    }\n",
       "\n",
       "    .dataframe thead th {\n",
       "        text-align: right;\n",
       "    }\n",
       "</style>\n",
       "<table border=\"1\" class=\"dataframe\">\n",
       "  <thead>\n",
       "    <tr style=\"text-align: right;\">\n",
       "      <th></th>\n",
       "      <th>AGG</th>\n",
       "      <th>DBC</th>\n",
       "      <th>VTI</th>\n",
       "      <th>^VIX</th>\n",
       "    </tr>\n",
       "    <tr>\n",
       "      <th>Date</th>\n",
       "      <th></th>\n",
       "      <th></th>\n",
       "      <th></th>\n",
       "      <th></th>\n",
       "    </tr>\n",
       "  </thead>\n",
       "  <tbody>\n",
       "    <tr>\n",
       "      <th>2023-08-24</th>\n",
       "      <td>-1.0</td>\n",
       "      <td>1.0</td>\n",
       "      <td>-1.0</td>\n",
       "      <td>1.0</td>\n",
       "    </tr>\n",
       "    <tr>\n",
       "      <th>2023-08-25</th>\n",
       "      <td>-1.0</td>\n",
       "      <td>1.0</td>\n",
       "      <td>-1.0</td>\n",
       "      <td>1.0</td>\n",
       "    </tr>\n",
       "    <tr>\n",
       "      <th>2023-08-28</th>\n",
       "      <td>-1.0</td>\n",
       "      <td>1.0</td>\n",
       "      <td>-1.0</td>\n",
       "      <td>1.0</td>\n",
       "    </tr>\n",
       "  </tbody>\n",
       "</table>\n",
       "</div>"
      ],
      "text/plain": [
       "            AGG  DBC  VTI  ^VIX\n",
       "Date                           \n",
       "2023-08-24 -1.0  1.0 -1.0   1.0\n",
       "2023-08-25 -1.0  1.0 -1.0   1.0\n",
       "2023-08-28 -1.0  1.0 -1.0   1.0"
      ]
     },
     "execution_count": 7,
     "metadata": {},
     "output_type": "execute_result"
    }
   ],
   "source": [
    "index_return_trend.tail(3)"
   ]
  },
  {
   "cell_type": "markdown",
   "metadata": {},
   "source": [
    "### S&P Trend (5 features)"
   ]
  },
  {
   "cell_type": "code",
   "execution_count": 8,
   "metadata": {},
   "outputs": [
    {
     "data": {
      "text/plain": [
       " 1.0    920\n",
       "-1.0    473\n",
       "dtype: int64"
      ]
     },
     "execution_count": 8,
     "metadata": {},
     "output_type": "execute_result"
    }
   ],
   "source": [
    "# 30-day stock trend\n",
    "\n",
    "snp_return_trend = np.sign(snp_prices.pct_change(window).mean(axis=1))\n",
    "snp_return_trend.value_counts()"
   ]
  },
  {
   "cell_type": "code",
   "execution_count": 9,
   "metadata": {},
   "outputs": [
    {
     "data": {
      "text/plain": [
       "Date\n",
       "2023-08-24   -1.0\n",
       "2023-08-25   -1.0\n",
       "2023-08-28   -1.0\n",
       "dtype: float64"
      ]
     },
     "execution_count": 9,
     "metadata": {},
     "output_type": "execute_result"
    }
   ],
   "source": [
    "snp_return_trend.tail(3)"
   ]
  },
  {
   "cell_type": "code",
   "execution_count": 10,
   "metadata": {},
   "outputs": [
    {
     "data": {
      "text/plain": [
       " 1.0    698\n",
       "-1.0    694\n",
       "dtype: int64"
      ]
     },
     "execution_count": 10,
     "metadata": {},
     "output_type": "execute_result"
    }
   ],
   "source": [
    "# 30-day-Volatility Trend\n",
    "\n",
    "snp_std_trend = np.sign(snp_returns.rolling(window).std().pct_change().mean(axis=1))\n",
    "\n",
    "snp_std_trend.value_counts()"
   ]
  },
  {
   "cell_type": "code",
   "execution_count": 11,
   "metadata": {},
   "outputs": [
    {
     "data": {
      "text/plain": [
       "Date\n",
       "2023-08-24    1.0\n",
       "2023-08-25   -1.0\n",
       "2023-08-28   -1.0\n",
       "dtype: float64"
      ]
     },
     "execution_count": 11,
     "metadata": {},
     "output_type": "execute_result"
    }
   ],
   "source": [
    "snp_std_trend.tail(3)"
   ]
  },
  {
   "cell_type": "code",
   "execution_count": 12,
   "metadata": {},
   "outputs": [
    {
     "data": {
      "text/html": [
       "<div>\n",
       "<style scoped>\n",
       "    .dataframe tbody tr th:only-of-type {\n",
       "        vertical-align: middle;\n",
       "    }\n",
       "\n",
       "    .dataframe tbody tr th {\n",
       "        vertical-align: top;\n",
       "    }\n",
       "\n",
       "    .dataframe thead th {\n",
       "        text-align: right;\n",
       "    }\n",
       "</style>\n",
       "<table border=\"1\" class=\"dataframe\">\n",
       "  <thead>\n",
       "    <tr style=\"text-align: right;\">\n",
       "      <th></th>\n",
       "      <th>ACN</th>\n",
       "      <th>ADBE</th>\n",
       "      <th>BA</th>\n",
       "      <th>BDX</th>\n",
       "      <th>BLK</th>\n",
       "      <th>CAH</th>\n",
       "      <th>CBOE</th>\n",
       "      <th>CE</th>\n",
       "      <th>CFG</th>\n",
       "      <th>DGX</th>\n",
       "      <th>...</th>\n",
       "      <th>JPM</th>\n",
       "      <th>LLY</th>\n",
       "      <th>MCD</th>\n",
       "      <th>NXPI</th>\n",
       "      <th>ON</th>\n",
       "      <th>ORLY</th>\n",
       "      <th>TROW</th>\n",
       "      <th>UAL</th>\n",
       "      <th>WST</th>\n",
       "      <th>YUM</th>\n",
       "    </tr>\n",
       "    <tr>\n",
       "      <th>Date</th>\n",
       "      <th></th>\n",
       "      <th></th>\n",
       "      <th></th>\n",
       "      <th></th>\n",
       "      <th></th>\n",
       "      <th></th>\n",
       "      <th></th>\n",
       "      <th></th>\n",
       "      <th></th>\n",
       "      <th></th>\n",
       "      <th></th>\n",
       "      <th></th>\n",
       "      <th></th>\n",
       "      <th></th>\n",
       "      <th></th>\n",
       "      <th></th>\n",
       "      <th></th>\n",
       "      <th></th>\n",
       "      <th></th>\n",
       "      <th></th>\n",
       "      <th></th>\n",
       "    </tr>\n",
       "  </thead>\n",
       "  <tbody>\n",
       "    <tr>\n",
       "      <th>2018-01-02</th>\n",
       "      <td>3061900</td>\n",
       "      <td>2432800</td>\n",
       "      <td>2978900</td>\n",
       "      <td>2756533</td>\n",
       "      <td>526400</td>\n",
       "      <td>2410000</td>\n",
       "      <td>841900</td>\n",
       "      <td>669000</td>\n",
       "      <td>5073100</td>\n",
       "      <td>874800</td>\n",
       "      <td>...</td>\n",
       "      <td>13578800</td>\n",
       "      <td>3456700</td>\n",
       "      <td>3696900</td>\n",
       "      <td>1784200</td>\n",
       "      <td>7027400</td>\n",
       "      <td>1423500</td>\n",
       "      <td>1603500</td>\n",
       "      <td>3390600</td>\n",
       "      <td>335000</td>\n",
       "      <td>1747800</td>\n",
       "    </tr>\n",
       "    <tr>\n",
       "      <th>2018-01-03</th>\n",
       "      <td>2064200</td>\n",
       "      <td>2561200</td>\n",
       "      <td>3211200</td>\n",
       "      <td>1792828</td>\n",
       "      <td>448700</td>\n",
       "      <td>1785000</td>\n",
       "      <td>1010500</td>\n",
       "      <td>558200</td>\n",
       "      <td>6281200</td>\n",
       "      <td>855100</td>\n",
       "      <td>...</td>\n",
       "      <td>11901000</td>\n",
       "      <td>3078400</td>\n",
       "      <td>3789600</td>\n",
       "      <td>2873200</td>\n",
       "      <td>7889700</td>\n",
       "      <td>1358000</td>\n",
       "      <td>1169800</td>\n",
       "      <td>4590900</td>\n",
       "      <td>194400</td>\n",
       "      <td>2554900</td>\n",
       "    </tr>\n",
       "    <tr>\n",
       "      <th>2018-01-04</th>\n",
       "      <td>1777000</td>\n",
       "      <td>2211400</td>\n",
       "      <td>4171700</td>\n",
       "      <td>1364993</td>\n",
       "      <td>389800</td>\n",
       "      <td>2728700</td>\n",
       "      <td>917900</td>\n",
       "      <td>671700</td>\n",
       "      <td>6740100</td>\n",
       "      <td>933100</td>\n",
       "      <td>...</td>\n",
       "      <td>12953700</td>\n",
       "      <td>2462500</td>\n",
       "      <td>2756400</td>\n",
       "      <td>2153500</td>\n",
       "      <td>5719700</td>\n",
       "      <td>892200</td>\n",
       "      <td>773500</td>\n",
       "      <td>3922900</td>\n",
       "      <td>367500</td>\n",
       "      <td>1971200</td>\n",
       "    </tr>\n",
       "  </tbody>\n",
       "</table>\n",
       "<p>3 rows × 25 columns</p>\n",
       "</div>"
      ],
      "text/plain": [
       "                ACN     ADBE       BA      BDX     BLK      CAH     CBOE  \\\n",
       "Date                                                                       \n",
       "2018-01-02  3061900  2432800  2978900  2756533  526400  2410000   841900   \n",
       "2018-01-03  2064200  2561200  3211200  1792828  448700  1785000  1010500   \n",
       "2018-01-04  1777000  2211400  4171700  1364993  389800  2728700   917900   \n",
       "\n",
       "                CE      CFG     DGX  ...       JPM      LLY      MCD     NXPI  \\\n",
       "Date                                 ...                                        \n",
       "2018-01-02  669000  5073100  874800  ...  13578800  3456700  3696900  1784200   \n",
       "2018-01-03  558200  6281200  855100  ...  11901000  3078400  3789600  2873200   \n",
       "2018-01-04  671700  6740100  933100  ...  12953700  2462500  2756400  2153500   \n",
       "\n",
       "                 ON     ORLY     TROW      UAL     WST      YUM  \n",
       "Date                                                             \n",
       "2018-01-02  7027400  1423500  1603500  3390600  335000  1747800  \n",
       "2018-01-03  7889700  1358000  1169800  4590900  194400  2554900  \n",
       "2018-01-04  5719700   892200   773500  3922900  367500  1971200  \n",
       "\n",
       "[3 rows x 25 columns]"
      ]
     },
     "execution_count": 12,
     "metadata": {},
     "output_type": "execute_result"
    }
   ],
   "source": [
    "# 30-day Average Volume Trend\n",
    "\n",
    "snp_volume = get.fetch_stock_data(\n",
    "    snp_tickers,\n",
    "    start_date,\n",
    "    end_date,\n",
    "    col='Volume'\n",
    ")\n",
    "\n",
    "snp_volume.head(3)"
   ]
  },
  {
   "cell_type": "code",
   "execution_count": 13,
   "metadata": {},
   "outputs": [
    {
     "data": {
      "text/plain": [
       " 1.0    878\n",
       "-1.0    515\n",
       "dtype: int64"
      ]
     },
     "execution_count": 13,
     "metadata": {},
     "output_type": "execute_result"
    }
   ],
   "source": [
    "snp_volume_trend = np.sign(snp_volume.pct_change(window).mean(axis=1))\n",
    "snp_volume_trend.value_counts()"
   ]
  },
  {
   "cell_type": "code",
   "execution_count": 14,
   "metadata": {},
   "outputs": [
    {
     "data": {
      "text/plain": [
       "Date\n",
       "2023-08-24   -1.0\n",
       "2023-08-25    1.0\n",
       "2023-08-28   -1.0\n",
       "dtype: float64"
      ]
     },
     "execution_count": 14,
     "metadata": {},
     "output_type": "execute_result"
    }
   ],
   "source": [
    "snp_volume_trend.tail(3)"
   ]
  },
  {
   "cell_type": "code",
   "execution_count": 15,
   "metadata": {},
   "outputs": [
    {
     "data": {
      "text/plain": [
       "-1.0    718\n",
       " 1.0    646\n",
       "dtype: int64"
      ]
     },
     "execution_count": 15,
     "metadata": {},
     "output_type": "execute_result"
    }
   ],
   "source": [
    "# 30-day relative strength trend\n",
    "\n",
    "gains = snp_returns.where(snp_returns > 0, 0)\n",
    "losses = snp_returns.where(snp_returns < 0, 0)\n",
    "avg_gain = gains.rolling(window=window).mean().mean(axis=1)\n",
    "avg_loss = losses.rolling(window=window).mean().mean(axis=1).abs()\n",
    "rel_strength = (avg_gain / avg_loss).pct_change(window)\n",
    "snp_rs_trend = np.sign(rel_strength)\n",
    "\n",
    "snp_rs_trend.value_counts()"
   ]
  },
  {
   "cell_type": "code",
   "execution_count": 16,
   "metadata": {},
   "outputs": [
    {
     "data": {
      "text/plain": [
       " 1.0    924\n",
       "-1.0    469\n",
       "dtype: int64"
      ]
     },
     "execution_count": 16,
     "metadata": {},
     "output_type": "execute_result"
    }
   ],
   "source": [
    "# 30-day turnover trend\n",
    "\n",
    "turnover = snp_volume * snp_prices\n",
    "snp_turnover_trend = np.sign(turnover.pct_change(window).mean(axis=1))\n",
    "snp_turnover_trend.value_counts()"
   ]
  },
  {
   "cell_type": "code",
   "execution_count": 17,
   "metadata": {},
   "outputs": [
    {
     "data": {
      "text/plain": [
       "Date\n",
       "2023-08-24   -1.0\n",
       "2023-08-25    1.0\n",
       "2023-08-28   -1.0\n",
       "dtype: float64"
      ]
     },
     "execution_count": 17,
     "metadata": {},
     "output_type": "execute_result"
    }
   ],
   "source": [
    "snp_turnover_trend.tail(3)"
   ]
  }
 ],
 "metadata": {
  "kernelspec": {
   "display_name": "Python 3",
   "language": "python",
   "name": "python3"
  },
  "language_info": {
   "codemirror_mode": {
    "name": "ipython",
    "version": 3
   },
   "file_extension": ".py",
   "mimetype": "text/x-python",
   "name": "python",
   "nbconvert_exporter": "python",
   "pygments_lexer": "ipython3",
   "version": "3.10.10"
  },
  "orig_nbformat": 4
 },
 "nbformat": 4,
 "nbformat_minor": 2
}
