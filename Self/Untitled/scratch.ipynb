{
 "cells": [
  {
   "cell_type": "code",
   "execution_count": 1,
   "metadata": {},
   "outputs": [],
   "source": [
    "import requests\n",
    "import json\n",
    "import pandas as pd\n",
    "\n",
    "def key_metrics(ticker, api_key=\"1d9321e29a5c8a057010ae98e906a594\", limit=130, period='quarter', metrics=None):\n",
    "    url = f\"https://financialmodelingprep.com/api/v3/key-metrics/{ticker}?period={period}&limit={limit}&apikey={api_key}\"\n",
    "    response = requests.get(url)\n",
    "    if response.status_code == 200:\n",
    "        key_metrics_data = json.loads(response.text)\n",
    "        key_metrics_df = pd.DataFrame(key_metrics_data).set_index('date').iloc[::-1]\n",
    "        if metrics is None:\n",
    "            return key_metrics_df\n",
    "        else:\n",
    "            return key_metrics_df[metrics]\n",
    "    else:\n",
    "        print(f\"Failed to fetch data for {ticker}\")\n",
    "        return None"
   ]
  },
  {
   "cell_type": "code",
   "execution_count": 2,
   "metadata": {},
   "outputs": [],
   "source": [
    "import yfinance as yf\n",
    "from capstone.data import fetch_snp_tickers, fetch_stock_data\n",
    "\n",
    "selected_factors = [\n",
    "    'peRatio', \n",
    "    'priceToSalesRatio', \n",
    "    'enterpriseValueOverEBITDA', \n",
    "    'netIncomePerShare', \n",
    "    'roe', \n",
    "    'returnOnTangibleAssets', \n",
    "    'freeCashFlowPerShare', \n",
    "    'operatingCashFlowPerShare', \n",
    "    'currentRatio', \n",
    "    'debtToEquity', \n",
    "    'interestCoverage', \n",
    "    'dividendYield', \n",
    "    'payoutRatio', \n",
    "    'salesGeneralAndAdministrativeToRevenue', \n",
    "    'capexToOperatingCashFlow', \n",
    "    'grahamNumber', \n",
    "    'workingCapital', \n",
    "    'averageReceivables', \n",
    "    'averagePayables', \n",
    "    'inventoryTurnover'\n",
    "]"
   ]
  },
  {
   "cell_type": "code",
   "execution_count": 3,
   "metadata": {},
   "outputs": [
    {
     "name": "stderr",
     "output_type": "stream",
     "text": [
      " 15%|█▌        | 15/100 [00:03<00:16,  5.17it/s]"
     ]
    }
   ],
   "source": [
    "from tqdm import tqdm\n",
    "\n",
    "import random\n",
    "\n",
    "random.seed(8)\n",
    "\n",
    "tickers = random.sample(fetch_snp_tickers(), 100)\n",
    "fdmtls = {}\n",
    "\n",
    "for ticker in tqdm(tickers):\n",
    "    fdmtls[ticker] = key_metrics(ticker, metrics=selected_factors)"
   ]
  },
  {
   "cell_type": "code",
   "execution_count": null,
   "metadata": {},
   "outputs": [],
   "source": [
    "min_indices = [data.index.min() for data in fdmtls.values() if type(data) == pd.DataFrame]"
   ]
  },
  {
   "cell_type": "code",
   "execution_count": null,
   "metadata": {},
   "outputs": [
    {
     "data": {
      "text/plain": [
       "'2021-12-31'"
      ]
     },
     "execution_count": 56,
     "metadata": {},
     "output_type": "execute_result"
    }
   ],
   "source": [
    "max(min_indices)"
   ]
  }
 ],
 "metadata": {
  "kernelspec": {
   "display_name": "Python 3",
   "language": "python",
   "name": "python3"
  },
  "language_info": {
   "codemirror_mode": {
    "name": "ipython",
    "version": 3
   },
   "file_extension": ".py",
   "mimetype": "text/x-python",
   "name": "python",
   "nbconvert_exporter": "python",
   "pygments_lexer": "ipython3",
   "version": "3.10.10"
  },
  "orig_nbformat": 4
 },
 "nbformat": 4,
 "nbformat_minor": 2
}
