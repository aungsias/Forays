{
 "cells": [
  {
   "cell_type": "code",
   "execution_count": 166,
   "metadata": {},
   "outputs": [],
   "source": [
    "import pandas as pd\n",
    "import numpy as np\n",
    "import yfinance as yf\n",
    "import random\n",
    "import seaborn as sns\n",
    "import matplotlib.pyplot as plt\n",
    "\n",
    "import helper.utils as utils\n",
    "import helper.data as get\n",
    "import helper.decompose as decomp\n",
    "\n",
    "from pprint import pprint\n",
    "\n",
    "sns.set_style('whitegrid')\n",
    "plt.rcParams['axes.edgecolor'] = 'k'\n",
    "plt.rcParams['lines.linewidth'] = 1\n",
    "\n",
    "rs = 88"
   ]
  },
  {
   "cell_type": "code",
   "execution_count": 167,
   "metadata": {},
   "outputs": [],
   "source": [
    "start_date = '2000-01-01'\n",
    "end_date = '2023-08-29'\n",
    "\n",
    "# snp_tickers = data.fetch_snp_tickers()\n",
    "# snp_prices = data.fetch_stock_prices(\n",
    "#     snp_tickers, start_date, end_date\n",
    "# )\n",
    "\n",
    "# snp_prices.to_csv('data/snp_prices.csv')\n",
    "\n",
    "# -- TO UNCOMMENT -- "
   ]
  },
  {
   "cell_type": "code",
   "execution_count": 168,
   "metadata": {},
   "outputs": [],
   "source": [
    "snp_prices = pd.read_csv(\n",
    "    'data/snp_prices.csv', index_col='Date', parse_dates=True\n",
    ")\n",
    "# -- TO DELETE --"
   ]
  },
  {
   "cell_type": "code",
   "execution_count": 169,
   "metadata": {},
   "outputs": [],
   "source": [
    "random.seed(rs)\n",
    "\n",
    "sampled_tickers = random.sample(snp_prices.columns.to_list(), 25)\n",
    "sampled_prices = snp_prices[sampled_tickers].copy()"
   ]
  },
  {
   "cell_type": "code",
   "execution_count": 170,
   "metadata": {},
   "outputs": [
    {
     "data": {
      "text/html": [
       "<div>\n",
       "<style scoped>\n",
       "    .dataframe tbody tr th:only-of-type {\n",
       "        vertical-align: middle;\n",
       "    }\n",
       "\n",
       "    .dataframe tbody tr th {\n",
       "        vertical-align: top;\n",
       "    }\n",
       "\n",
       "    .dataframe thead th {\n",
       "        text-align: right;\n",
       "    }\n",
       "</style>\n",
       "<table border=\"1\" class=\"dataframe\">\n",
       "  <thead>\n",
       "    <tr style=\"text-align: right;\">\n",
       "      <th></th>\n",
       "      <th>LRCX</th>\n",
       "      <th>DGX</th>\n",
       "      <th>INTC</th>\n",
       "      <th>D</th>\n",
       "      <th>TRMB</th>\n",
       "      <th>ADM</th>\n",
       "      <th>PSA</th>\n",
       "      <th>WRB</th>\n",
       "      <th>ACGL</th>\n",
       "      <th>IRM</th>\n",
       "      <th>...</th>\n",
       "      <th>WHR</th>\n",
       "      <th>CINF</th>\n",
       "      <th>SYK</th>\n",
       "      <th>CSX</th>\n",
       "      <th>MSI</th>\n",
       "      <th>MCK</th>\n",
       "      <th>IBM</th>\n",
       "      <th>VTR</th>\n",
       "      <th>MRO</th>\n",
       "      <th>HIG</th>\n",
       "    </tr>\n",
       "    <tr>\n",
       "      <th>Date</th>\n",
       "      <th></th>\n",
       "      <th></th>\n",
       "      <th></th>\n",
       "      <th></th>\n",
       "      <th></th>\n",
       "      <th></th>\n",
       "      <th></th>\n",
       "      <th></th>\n",
       "      <th></th>\n",
       "      <th></th>\n",
       "      <th></th>\n",
       "      <th></th>\n",
       "      <th></th>\n",
       "      <th></th>\n",
       "      <th></th>\n",
       "      <th></th>\n",
       "      <th></th>\n",
       "      <th></th>\n",
       "      <th></th>\n",
       "      <th></th>\n",
       "      <th></th>\n",
       "    </tr>\n",
       "  </thead>\n",
       "  <tbody>\n",
       "    <tr>\n",
       "      <th>2000-01-03</th>\n",
       "      <td>32.645256</td>\n",
       "      <td>5.614895</td>\n",
       "      <td>25.123943</td>\n",
       "      <td>7.313037</td>\n",
       "      <td>4.145833</td>\n",
       "      <td>6.514029</td>\n",
       "      <td>9.379158</td>\n",
       "      <td>1.250003</td>\n",
       "      <td>1.277778</td>\n",
       "      <td>4.220662</td>\n",
       "      <td>...</td>\n",
       "      <td>32.586334</td>\n",
       "      <td>12.533746</td>\n",
       "      <td>13.840666</td>\n",
       "      <td>1.120865</td>\n",
       "      <td>129.068756</td>\n",
       "      <td>19.448540</td>\n",
       "      <td>61.718239</td>\n",
       "      <td>1.209447</td>\n",
       "      <td>4.201050</td>\n",
       "      <td>27.316633</td>\n",
       "    </tr>\n",
       "    <tr>\n",
       "      <th>2000-01-04</th>\n",
       "      <td>31.229067</td>\n",
       "      <td>5.603199</td>\n",
       "      <td>23.950768</td>\n",
       "      <td>7.492869</td>\n",
       "      <td>4.072917</td>\n",
       "      <td>6.446171</td>\n",
       "      <td>9.379158</td>\n",
       "      <td>1.211541</td>\n",
       "      <td>1.270833</td>\n",
       "      <td>4.087612</td>\n",
       "      <td>...</td>\n",
       "      <td>31.334278</td>\n",
       "      <td>12.520907</td>\n",
       "      <td>13.688850</td>\n",
       "      <td>1.086899</td>\n",
       "      <td>119.431900</td>\n",
       "      <td>18.203833</td>\n",
       "      <td>59.623299</td>\n",
       "      <td>1.209447</td>\n",
       "      <td>4.038638</td>\n",
       "      <td>26.411098</td>\n",
       "    </tr>\n",
       "    <tr>\n",
       "      <th>2000-01-05</th>\n",
       "      <td>30.775146</td>\n",
       "      <td>5.556406</td>\n",
       "      <td>24.149309</td>\n",
       "      <td>7.696672</td>\n",
       "      <td>3.817708</td>\n",
       "      <td>6.344390</td>\n",
       "      <td>9.456454</td>\n",
       "      <td>1.192311</td>\n",
       "      <td>1.388889</td>\n",
       "      <td>3.954561</td>\n",
       "      <td>...</td>\n",
       "      <td>31.795565</td>\n",
       "      <td>12.649202</td>\n",
       "      <td>14.106344</td>\n",
       "      <td>1.109543</td>\n",
       "      <td>116.291801</td>\n",
       "      <td>18.411291</td>\n",
       "      <td>61.718239</td>\n",
       "      <td>1.190549</td>\n",
       "      <td>4.146914</td>\n",
       "      <td>25.618778</td>\n",
       "    </tr>\n",
       "  </tbody>\n",
       "</table>\n",
       "<p>3 rows × 25 columns</p>\n",
       "</div>"
      ],
      "text/plain": [
       "                 LRCX       DGX       INTC         D      TRMB       ADM  \\\n",
       "Date                                                                       \n",
       "2000-01-03  32.645256  5.614895  25.123943  7.313037  4.145833  6.514029   \n",
       "2000-01-04  31.229067  5.603199  23.950768  7.492869  4.072917  6.446171   \n",
       "2000-01-05  30.775146  5.556406  24.149309  7.696672  3.817708  6.344390   \n",
       "\n",
       "                 PSA       WRB      ACGL       IRM  ...        WHR       CINF  \\\n",
       "Date                                                ...                         \n",
       "2000-01-03  9.379158  1.250003  1.277778  4.220662  ...  32.586334  12.533746   \n",
       "2000-01-04  9.379158  1.211541  1.270833  4.087612  ...  31.334278  12.520907   \n",
       "2000-01-05  9.456454  1.192311  1.388889  3.954561  ...  31.795565  12.649202   \n",
       "\n",
       "                  SYK       CSX         MSI        MCK        IBM       VTR  \\\n",
       "Date                                                                          \n",
       "2000-01-03  13.840666  1.120865  129.068756  19.448540  61.718239  1.209447   \n",
       "2000-01-04  13.688850  1.086899  119.431900  18.203833  59.623299  1.209447   \n",
       "2000-01-05  14.106344  1.109543  116.291801  18.411291  61.718239  1.190549   \n",
       "\n",
       "                 MRO        HIG  \n",
       "Date                             \n",
       "2000-01-03  4.201050  27.316633  \n",
       "2000-01-04  4.038638  26.411098  \n",
       "2000-01-05  4.146914  25.618778  \n",
       "\n",
       "[3 rows x 25 columns]"
      ]
     },
     "execution_count": 170,
     "metadata": {},
     "output_type": "execute_result"
    }
   ],
   "source": [
    "sampled_prices.head(3)"
   ]
  },
  {
   "cell_type": "code",
   "execution_count": 171,
   "metadata": {},
   "outputs": [
    {
     "data": {
      "text/plain": [
       "Series([], dtype: int64)"
      ]
     },
     "execution_count": 171,
     "metadata": {},
     "output_type": "execute_result"
    }
   ],
   "source": [
    "snp_nulls = sampled_prices.isnull().sum()\n",
    "snp_nulls[snp_nulls > 0]"
   ]
  },
  {
   "cell_type": "code",
   "execution_count": 172,
   "metadata": {},
   "outputs": [],
   "source": [
    "# List of economic indicators to fetch\n",
    "indicators_to_fetch = [\n",
    "    \"GDP\",       # Gross Domestic Product\n",
    "    \"FEDFUNDS\",  # Effective Federal Funds Rate\n",
    "    \"UNRATE\",    # Unemployment Rate\n",
    "    \"CIVPART\",   # Labor Force Participation Rate\n",
    "    \"PSAVERT\"    # Personal Saving Rate\n",
    "]\n",
    "\n",
    "api_key_value = '7241f282cb7ac930cf729ca9d1acb3af'\n",
    "\n",
    "economic_data = get.fetch_economic_data(\n",
    "    indicators_to_fetch, start_date, end_date, api_key_value\n",
    ")"
   ]
  },
  {
   "cell_type": "code",
   "execution_count": 173,
   "metadata": {},
   "outputs": [
    {
     "name": "stdout",
     "output_type": "stream",
     "text": [
      "GDP        shape: (94,)        Null Values: 0\n",
      "FEDFUNDS   shape: (283,)       Null Values: 0\n",
      "UNRATE     shape: (283,)       Null Values: 0\n",
      "CIVPART    shape: (283,)       Null Values: 0\n",
      "PSAVERT    shape: (283,)       Null Values: 0\n",
      "\n",
      "Number of economic indicators: 5\n"
     ]
    }
   ],
   "source": [
    "for indicator, data in economic_data.items():\n",
    "    data = data[indicator]\n",
    "    print(f'{indicator:<10} shape: {str(data.shape):<12} \\\n",
    "Null Values: {data.isnull().sum()}')\n",
    "\n",
    "print(f'\\nNumber of economic indicators: {len(economic_data.values())}')"
   ]
  },
  {
   "cell_type": "code",
   "execution_count": 174,
   "metadata": {},
   "outputs": [
    {
     "name": "stdout",
     "output_type": "stream",
     "text": [
      "{'CIVPART': 'MS',\n",
      " 'FEDFUNDS': 'MS',\n",
      " 'GDP': 'QS-OCT',\n",
      " 'PSAVERT': 'MS',\n",
      " 'UNRATE': 'MS'}\n"
     ]
    }
   ],
   "source": [
    "# Check frequency for each DataFrame\n",
    "\n",
    "freq = utils.check_data_frequency(economic_data)\n",
    "pprint(freq)"
   ]
  },
  {
   "cell_type": "code",
   "execution_count": 175,
   "metadata": {},
   "outputs": [
    {
     "name": "stdout",
     "output_type": "stream",
     "text": [
      "No set frequency.\n"
     ]
    }
   ],
   "source": [
    "# Check frequency of sampled prices\n",
    "utils.check_stock_frequency(sampled_prices)"
   ]
  },
  {
   "cell_type": "code",
   "execution_count": 176,
   "metadata": {},
   "outputs": [
    {
     "name": "stdout",
     "output_type": "stream",
     "text": [
      "D\n"
     ]
    }
   ],
   "source": [
    "# Resample stock data to daily frequency\n",
    "\n",
    "start_idx = sampled_prices.index.min()\n",
    "end_idx = sampled_prices.index.max()\n",
    "\n",
    "daily_date_range = pd.date_range(start_idx, end_idx, freq='D')\n",
    "\n",
    "sampled_prices = sampled_prices.reindex(daily_date_range)\n",
    "utils.check_stock_frequency(sampled_prices)"
   ]
  },
  {
   "cell_type": "code",
   "execution_count": 177,
   "metadata": {},
   "outputs": [
    {
     "data": {
      "text/plain": [
       "LRCX    0.311147\n",
       "DGX     0.311147\n",
       "INTC    0.311147\n",
       "D       0.311147\n",
       "TRMB    0.311147\n",
       "ADM     0.311147\n",
       "PSA     0.311147\n",
       "WRB     0.311147\n",
       "ACGL    0.311147\n",
       "IRM     0.311147\n",
       "WFC     0.311147\n",
       "NSC     0.311147\n",
       "CHRW    0.311147\n",
       "EG      0.311147\n",
       "CAH     0.311147\n",
       "WHR     0.311147\n",
       "CINF    0.311147\n",
       "SYK     0.311147\n",
       "CSX     0.311147\n",
       "MSI     0.311147\n",
       "MCK     0.311147\n",
       "IBM     0.311147\n",
       "VTR     0.311147\n",
       "MRO     0.311147\n",
       "HIG     0.311147\n",
       "dtype: float64"
      ]
     },
     "execution_count": 177,
     "metadata": {},
     "output_type": "execute_result"
    }
   ],
   "source": [
    "# Check nulls for stock prices\n",
    "\n",
    "price_nulls = sampled_prices.isnull().sum()\n",
    "price_pct_nulls = price_nulls / len(sampled_prices)\n",
    "price_pct_nulls"
   ]
  },
  {
   "cell_type": "code",
   "execution_count": 178,
   "metadata": {},
   "outputs": [
    {
     "data": {
      "text/plain": [
       "{'GDP': 'D', 'FEDFUNDS': 'D', 'UNRATE': 'D', 'CIVPART': 'D', 'PSAVERT': 'D'}"
      ]
     },
     "execution_count": 178,
     "metadata": {},
     "output_type": "execute_result"
    }
   ],
   "source": [
    "# Resample economic data to match stock data frequency\n",
    "\n",
    "resamp_economic_data = {}\n",
    "\n",
    "for indicator in economic_data.keys():\n",
    "    original = economic_data[indicator]\n",
    "    resamp_economic_data[indicator] = original.reindex(\n",
    "        sampled_prices.index\n",
    "    )\n",
    "\n",
    "utils.check_data_frequency(resamp_economic_data)"
   ]
  },
  {
   "cell_type": "code",
   "execution_count": 179,
   "metadata": {},
   "outputs": [
    {
     "data": {
      "text/plain": [
       "GDP         0.989235\n",
       "FEDFUNDS    0.967357\n",
       "UNRATE      0.967357\n",
       "CIVPART     0.967357\n",
       "PSAVERT     0.967357\n",
       "dtype: float64"
      ]
     },
     "execution_count": 179,
     "metadata": {},
     "output_type": "execute_result"
    }
   ],
   "source": [
    "# Combine economic data\n",
    "\n",
    "economic_data_df = pd.concat(\n",
    "    list(resamp_economic_data.values()),\n",
    "    axis=1\n",
    ")\n",
    "\n",
    "ed_nulls = economic_data_df.isnull().sum()\n",
    "ed_pct_nulls = ed_nulls / len(economic_data_df)\n",
    "ed_pct_nulls"
   ]
  },
  {
   "cell_type": "code",
   "execution_count": 180,
   "metadata": {},
   "outputs": [
    {
     "data": {
      "text/plain": [
       "((5760, 5), (2879, 5), (5760, 25), (2879, 25))"
      ]
     },
     "execution_count": 180,
     "metadata": {},
     "output_type": "execute_result"
    }
   ],
   "source": [
    "from helper.data import ts_train_test_split\n",
    "\n",
    "returns = sampled_prices.pct_change()\n",
    "returns.loc[returns.index.min()] = 0\n",
    "\n",
    "X = economic_data_df\n",
    "y = returns\n",
    "\n",
    "test_size = 1/3\n",
    "\n",
    "X_train, X_test, y_train, y_test = ts_train_test_split(\n",
    "    X, y, test_size=test_size\n",
    ")\n",
    "\n",
    "X_train.shape, X_test.shape, y_train.shape, y_test.shape"
   ]
  },
  {
   "cell_type": "code",
   "execution_count": 181,
   "metadata": {},
   "outputs": [],
   "source": [
    "def impute(*data):\n",
    "    imputed = []\n",
    "    for dataset in data:\n",
    "        data_imputed = dataset.interpolate('akima').ffill().bfill()\n",
    "        imputed.append(data_imputed)\n",
    "    return tuple(imputed)\n",
    "\n",
    "X_train_imputed, X_test_imputed, y_train_imputed, y_test_imputed = impute(\n",
    "    X_train, X_test, y_train, y_test\n",
    "\n",
    ")"
   ]
  },
  {
   "cell_type": "code",
   "execution_count": 182,
   "metadata": {},
   "outputs": [
    {
     "name": "stdout",
     "output_type": "stream",
     "text": [
      "X_train_imputed Null Count:\t0\n",
      "X_test_imputed Null Count:\t0\n",
      "y_train_imputed Null Count:\t0\n",
      "y_test_imputed Null Count:\t0\n"
     ]
    }
   ],
   "source": [
    "# Check nulls after imputation\n",
    "datasets = [X_train_imputed, X_test_imputed, y_train_imputed, y_test_imputed]\n",
    "dataset_names = ['X_train_imputed', 'X_test_imputed', 'y_train_imputed', 'y_test_imputed']\n",
    "\n",
    "for name, dataset in zip(dataset_names, datasets):\n",
    "    null_count = dataset.isnull().sum().sum()\n",
    "    print(f'{name} Null Count:\\t{null_count}')"
   ]
  },
  {
   "cell_type": "code",
   "execution_count": 183,
   "metadata": {},
   "outputs": [],
   "source": [
    "pca = decomp.PCATransform(n_components=5, random_state=rs)\n",
    "pca.fit(y_train_imputed)"
   ]
  },
  {
   "cell_type": "code",
   "execution_count": 184,
   "metadata": {},
   "outputs": [
    {
     "data": {
      "text/html": [
       "<div>\n",
       "<style scoped>\n",
       "    .dataframe tbody tr th:only-of-type {\n",
       "        vertical-align: middle;\n",
       "    }\n",
       "\n",
       "    .dataframe tbody tr th {\n",
       "        vertical-align: top;\n",
       "    }\n",
       "\n",
       "    .dataframe thead th {\n",
       "        text-align: right;\n",
       "    }\n",
       "</style>\n",
       "<table border=\"1\" class=\"dataframe\">\n",
       "  <thead>\n",
       "    <tr style=\"text-align: right;\">\n",
       "      <th></th>\n",
       "      <th>PC1</th>\n",
       "      <th>PC2</th>\n",
       "      <th>PC3</th>\n",
       "      <th>PC4</th>\n",
       "      <th>PC5</th>\n",
       "    </tr>\n",
       "  </thead>\n",
       "  <tbody>\n",
       "    <tr>\n",
       "      <th>2000-01-03</th>\n",
       "      <td>-0.002204</td>\n",
       "      <td>-0.000224</td>\n",
       "      <td>0.000645</td>\n",
       "      <td>0.000238</td>\n",
       "      <td>0.000041</td>\n",
       "    </tr>\n",
       "    <tr>\n",
       "      <th>2000-01-04</th>\n",
       "      <td>-0.127008</td>\n",
       "      <td>0.031681</td>\n",
       "      <td>-0.002863</td>\n",
       "      <td>-0.023351</td>\n",
       "      <td>0.008120</td>\n",
       "    </tr>\n",
       "    <tr>\n",
       "      <th>2000-01-05</th>\n",
       "      <td>0.000222</td>\n",
       "      <td>0.025825</td>\n",
       "      <td>-0.066497</td>\n",
       "      <td>0.053181</td>\n",
       "      <td>-0.037077</td>\n",
       "    </tr>\n",
       "  </tbody>\n",
       "</table>\n",
       "</div>"
      ],
      "text/plain": [
       "                 PC1       PC2       PC3       PC4       PC5\n",
       "2000-01-03 -0.002204 -0.000224  0.000645  0.000238  0.000041\n",
       "2000-01-04 -0.127008  0.031681 -0.002863 -0.023351  0.008120\n",
       "2000-01-05  0.000222  0.025825 -0.066497  0.053181 -0.037077"
      ]
     },
     "execution_count": 184,
     "metadata": {},
     "output_type": "execute_result"
    }
   ],
   "source": [
    "train_pca = pca.transformed\n",
    "train_pca.head(3)"
   ]
  },
  {
   "cell_type": "code",
   "execution_count": 185,
   "metadata": {},
   "outputs": [
    {
     "data": {
      "image/png": "[encoded data removed]",
      "text/plain": [
       "<Figure size 700x300 with 1 Axes>"
      ]
     },
     "metadata": {},
     "output_type": "display_data"
    }
   ],
   "source": [
    "pca.explained_variance_ratio.iloc[::-1].plot.barh(\n",
    "    figsize=(7, 3),\n",
    "    edgecolor='k',\n",
    "    color='#FF5D5D'\n",
    ")\n",
    "plt.xticks(rotation=0)\n",
    "plt.legend(['Explained Variance Ratio']);"
   ]
  },
  {
   "cell_type": "code",
   "execution_count": 186,
   "metadata": {},
   "outputs": [
    {
     "data": {
      "text/html": [
       "<div>\n",
       "<style scoped>\n",
       "    .dataframe tbody tr th:only-of-type {\n",
       "        vertical-align: middle;\n",
       "    }\n",
       "\n",
       "    .dataframe tbody tr th {\n",
       "        vertical-align: top;\n",
       "    }\n",
       "\n",
       "    .dataframe thead th {\n",
       "        text-align: right;\n",
       "    }\n",
       "</style>\n",
       "<table border=\"1\" class=\"dataframe\">\n",
       "  <thead>\n",
       "    <tr style=\"text-align: right;\">\n",
       "      <th></th>\n",
       "      <th>PC1</th>\n",
       "      <th>PC2</th>\n",
       "      <th>PC3</th>\n",
       "      <th>PC4</th>\n",
       "      <th>PC5</th>\n",
       "    </tr>\n",
       "  </thead>\n",
       "  <tbody>\n",
       "    <tr>\n",
       "      <th>2015-10-11</th>\n",
       "      <td>0.002072</td>\n",
       "      <td>-0.000152</td>\n",
       "      <td>0.000373</td>\n",
       "      <td>-0.000117</td>\n",
       "      <td>-0.000092</td>\n",
       "    </tr>\n",
       "    <tr>\n",
       "      <th>2015-10-12</th>\n",
       "      <td>0.007795</td>\n",
       "      <td>0.038101</td>\n",
       "      <td>0.014610</td>\n",
       "      <td>0.007225</td>\n",
       "      <td>-0.001453</td>\n",
       "    </tr>\n",
       "    <tr>\n",
       "      <th>2015-10-13</th>\n",
       "      <td>0.054578</td>\n",
       "      <td>0.002302</td>\n",
       "      <td>0.016448</td>\n",
       "      <td>0.007518</td>\n",
       "      <td>0.000145</td>\n",
       "    </tr>\n",
       "  </tbody>\n",
       "</table>\n",
       "</div>"
      ],
      "text/plain": [
       "                 PC1       PC2       PC3       PC4       PC5\n",
       "2015-10-11  0.002072 -0.000152  0.000373 -0.000117 -0.000092\n",
       "2015-10-12  0.007795  0.038101  0.014610  0.007225 -0.001453\n",
       "2015-10-13  0.054578  0.002302  0.016448  0.007518  0.000145"
      ]
     },
     "execution_count": 186,
     "metadata": {},
     "output_type": "execute_result"
    }
   ],
   "source": [
    "pca.fit(y_test)\n",
    "\n",
    "test_pca = pca.transformed\n",
    "\n",
    "test_pca.head(3)"
   ]
  },
  {
   "cell_type": "code",
   "execution_count": 188,
   "metadata": {},
   "outputs": [
    {
     "data": {
      "text/html": [
       "<div>\n",
       "<style scoped>\n",
       "    .dataframe tbody tr th:only-of-type {\n",
       "        vertical-align: middle;\n",
       "    }\n",
       "\n",
       "    .dataframe tbody tr th {\n",
       "        vertical-align: top;\n",
       "    }\n",
       "\n",
       "    .dataframe thead th {\n",
       "        text-align: right;\n",
       "    }\n",
       "</style>\n",
       "<table border=\"1\" class=\"dataframe\">\n",
       "  <thead>\n",
       "    <tr style=\"text-align: right;\">\n",
       "      <th></th>\n",
       "      <th>GDP</th>\n",
       "      <th>FEDFUNDS</th>\n",
       "      <th>UNRATE</th>\n",
       "      <th>CIVPART</th>\n",
       "      <th>PSAVERT</th>\n",
       "    </tr>\n",
       "  </thead>\n",
       "  <tbody>\n",
       "    <tr>\n",
       "      <th>2000-01-03</th>\n",
       "      <td>10247.720</td>\n",
       "      <td>5.73</td>\n",
       "      <td>4.1</td>\n",
       "      <td>67.3</td>\n",
       "      <td>4.5</td>\n",
       "    </tr>\n",
       "    <tr>\n",
       "      <th>2000-01-04</th>\n",
       "      <td>10247.720</td>\n",
       "      <td>5.73</td>\n",
       "      <td>4.1</td>\n",
       "      <td>67.3</td>\n",
       "      <td>4.5</td>\n",
       "    </tr>\n",
       "    <tr>\n",
       "      <th>2000-01-05</th>\n",
       "      <td>10247.720</td>\n",
       "      <td>5.73</td>\n",
       "      <td>4.1</td>\n",
       "      <td>67.3</td>\n",
       "      <td>4.5</td>\n",
       "    </tr>\n",
       "    <tr>\n",
       "      <th>2000-01-06</th>\n",
       "      <td>10247.720</td>\n",
       "      <td>5.73</td>\n",
       "      <td>4.1</td>\n",
       "      <td>67.3</td>\n",
       "      <td>4.5</td>\n",
       "    </tr>\n",
       "    <tr>\n",
       "      <th>2000-01-07</th>\n",
       "      <td>10247.720</td>\n",
       "      <td>5.73</td>\n",
       "      <td>4.1</td>\n",
       "      <td>67.3</td>\n",
       "      <td>4.5</td>\n",
       "    </tr>\n",
       "    <tr>\n",
       "      <th>...</th>\n",
       "      <td>...</td>\n",
       "      <td>...</td>\n",
       "      <td>...</td>\n",
       "      <td>...</td>\n",
       "      <td>...</td>\n",
       "    </tr>\n",
       "    <tr>\n",
       "      <th>2015-10-06</th>\n",
       "      <td>18332.079</td>\n",
       "      <td>0.12</td>\n",
       "      <td>5.0</td>\n",
       "      <td>62.5</td>\n",
       "      <td>7.5</td>\n",
       "    </tr>\n",
       "    <tr>\n",
       "      <th>2015-10-07</th>\n",
       "      <td>18332.079</td>\n",
       "      <td>0.12</td>\n",
       "      <td>5.0</td>\n",
       "      <td>62.5</td>\n",
       "      <td>7.5</td>\n",
       "    </tr>\n",
       "    <tr>\n",
       "      <th>2015-10-08</th>\n",
       "      <td>18332.079</td>\n",
       "      <td>0.12</td>\n",
       "      <td>5.0</td>\n",
       "      <td>62.5</td>\n",
       "      <td>7.5</td>\n",
       "    </tr>\n",
       "    <tr>\n",
       "      <th>2015-10-09</th>\n",
       "      <td>18332.079</td>\n",
       "      <td>0.12</td>\n",
       "      <td>5.0</td>\n",
       "      <td>62.5</td>\n",
       "      <td>7.5</td>\n",
       "    </tr>\n",
       "    <tr>\n",
       "      <th>2015-10-10</th>\n",
       "      <td>18332.079</td>\n",
       "      <td>0.12</td>\n",
       "      <td>5.0</td>\n",
       "      <td>62.5</td>\n",
       "      <td>7.5</td>\n",
       "    </tr>\n",
       "  </tbody>\n",
       "</table>\n",
       "<p>5760 rows × 5 columns</p>\n",
       "</div>"
      ],
      "text/plain": [
       "                  GDP  FEDFUNDS  UNRATE  CIVPART  PSAVERT\n",
       "2000-01-03  10247.720      5.73     4.1     67.3      4.5\n",
       "2000-01-04  10247.720      5.73     4.1     67.3      4.5\n",
       "2000-01-05  10247.720      5.73     4.1     67.3      4.5\n",
       "2000-01-06  10247.720      5.73     4.1     67.3      4.5\n",
       "2000-01-07  10247.720      5.73     4.1     67.3      4.5\n",
       "...               ...       ...     ...      ...      ...\n",
       "2015-10-06  18332.079      0.12     5.0     62.5      7.5\n",
       "2015-10-07  18332.079      0.12     5.0     62.5      7.5\n",
       "2015-10-08  18332.079      0.12     5.0     62.5      7.5\n",
       "2015-10-09  18332.079      0.12     5.0     62.5      7.5\n",
       "2015-10-10  18332.079      0.12     5.0     62.5      7.5\n",
       "\n",
       "[5760 rows x 5 columns]"
      ]
     },
     "execution_count": 188,
     "metadata": {},
     "output_type": "execute_result"
    }
   ],
   "source": [
    "X_train_imputed"
   ]
  }
 ],
 "metadata": {
  "kernelspec": {
   "display_name": "Python 3",
   "language": "python",
   "name": "python3"
  },
  "language_info": {
   "codemirror_mode": {
    "name": "ipython",
    "version": 3
   },
   "file_extension": ".py",
   "mimetype": "text/x-python",
   "name": "python",
   "nbconvert_exporter": "python",
   "pygments_lexer": "ipython3",
   "version": "3.10.10"
  },
  "orig_nbformat": 4
 },
 "nbformat": 4,
 "nbformat_minor": 2
}
