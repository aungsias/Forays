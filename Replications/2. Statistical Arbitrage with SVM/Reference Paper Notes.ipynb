{
 "cells": [
  {
   "cell_type": "markdown",
   "metadata": {},
   "source": [
    "## Abstract\n",
    "\n",
    "* **Market Neutrality** - Generating positive returns *regardless of underlying market conditions\n",
    "* **Algorithm proposed by study** - incremental learning framework for algorithmic asset management based on support vector regression\n",
    "    - algorithm learns the fair price of the security under management by minimizing a regularized $\\epsilon$-sensitive loss function in an on-line fashion\n",
    "    - uses the most recent market information\n",
    "    - **ensemble learning** addresses the problem off learning amidst non-stationarity\n",
    "        - a meta-algorithm strategically combines the opinion of a pool of experts\n",
    "\n",
    "## System and Strategy\n",
    "\n",
    "### Strategy\n",
    "- **Strategy** in the study can be described as a generalization off pairs trading. \n",
    "    - only one of two dependent assets giving rise to the spread is a tradable security under management\n",
    "    - **the paired asset is an artificial one** - generated as a result of data mining that extracts patterns from a large populatio of data streams\n",
    "    - utilises these patterns to build up the synthetic stream in real time\n",
    "    - extracted patterns are interpreted as representing current market conditions, **whereas the synthetic and auxiliary asset will represent the fair price of the target security being traded by the system**.\n",
    "- Strategy is **underpinned by the exploitation of time-varying cross-sectional dependencies among securities**.\n",
    "\n",
    "### System\n",
    "- imports $n+1$ cross-sectional financial data streams at discrete time points $t=1,2,...$\n",
    "- assumes that consecutive time intervals are all equal to 24 hours, and that a trading decision is made on a daily basis (before market close)."
   ]
  }
 ],
 "metadata": {
  "language_info": {
   "name": "python"
  },
  "orig_nbformat": 4
 },
 "nbformat": 4,
 "nbformat_minor": 2
}
